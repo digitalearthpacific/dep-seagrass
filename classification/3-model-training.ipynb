{
 "cells": [
  {
   "cell_type": "markdown",
   "id": "718f54c3-6d20-4ed0-9752-e1751e6b84e5",
   "metadata": {},
   "source": [
    "# Train the model"
   ]
  },
  {
   "cell_type": "code",
   "execution_count": null,
   "id": "98bda661-ae78-4f82-82b3-e68a5aa32d78",
   "metadata": {},
   "outputs": [],
   "source": [
    "import pandas as pd\n",
    "import joblib\n",
    "from sklearn.ensemble import RandomForestClassifier\n",
    "\n",
    "from sklearn.model_selection import train_test_split\n",
    "from sklearn.metrics import classification_report, ConfusionMatrixDisplay\n",
    "from sklearn_evaluation import plot"
   ]
  },
  {
   "cell_type": "code",
   "execution_count": null,
   "id": "8f992dfb-7553-4914-afe9-23ae4978d67d",
   "metadata": {},
   "outputs": [],
   "source": [
    "training_data = pd.read_csv(\"training-data/combined-unmasked-training.csv\")\n",
    "training_data = training_data.drop(columns=[\"x\", \"y\", \"spatial_ref\"])\n",
    "training_data.head()"
   ]
  },
  {
   "cell_type": "code",
   "execution_count": null,
   "id": "b4c67ffc-f848-437b-8955-3e5fc8c70f89",
   "metadata": {},
   "outputs": [],
   "source": [
    "train, test = train_test_split(training_data, test_size=0.2, random_state=42)\n",
    "\n",
    "# Keep the dataframes as labelled dataframes, which makes things neater later\n",
    "classes = train[\"cc_id\"]\n",
    "observations = train.drop(columns=[\"cc_id\"])\n",
    "\n",
    "# Sort the columns by name\n",
    "observations = observations.reindex(sorted(observations.columns), axis=1)\n",
    "\n",
    "# Create a model... emphasize class 4, which is seagrass\n",
    "classifier = RandomForestClassifier(\n",
    "    n_estimators=500,\n",
    "    class_weight={1:1, 2:1, 3:1, 4:3, 5:1, 6:1, 7:1, 8:1, 9:1, 10:1, 11:1, 12:1, 13:1},\n",
    ")\n",
    "\n",
    "# ...and fit it to the data\n",
    "model = classifier.fit(observations, classes)"
   ]
  },
  {
   "cell_type": "code",
   "execution_count": null,
   "id": "34974eee",
   "metadata": {},
   "outputs": [],
   "source": [
    "# Evaluate the performance\n",
    "y_pred = model.predict(test.drop(columns=[\"cc_id\"]))\n",
    "print(classification_report(test[\"cc_id\"], y_pred))"
   ]
  },
  {
   "cell_type": "code",
   "execution_count": null,
   "id": "1b22bc12",
   "metadata": {},
   "outputs": [],
   "source": [
    "ConfusionMatrixDisplay.from_estimator(model, test.drop(columns=[\"cc_id\"]), test[\"cc_id\"])"
   ]
  },
  {
   "cell_type": "code",
   "execution_count": null,
   "id": "00f2d1dd",
   "metadata": {},
   "outputs": [],
   "source": [
    "# Show the feature importances\n",
    "plot.feature_importances(model, feature_names=observations.columns)"
   ]
  },
  {
   "cell_type": "code",
   "execution_count": null,
   "id": "5af7821d-59ea-449a-b74c-53c942dca7c1",
   "metadata": {},
   "outputs": [],
   "source": [
    "# Save the model\n",
    "file_path = \"models/20250902c-alex.model\"\n",
    "joblib.dump(model, file_path)"
   ]
  },
  {
   "cell_type": "code",
   "execution_count": null,
   "id": "1579fbaa",
   "metadata": {},
   "outputs": [],
   "source": []
  }
 ],
 "metadata": {
  "kernelspec": {
   "display_name": "Python 3",
   "language": "python",
   "name": "python3"
  },
  "language_info": {
   "codemirror_mode": {
    "name": "ipython",
    "version": 3
   },
   "file_extension": ".py",
   "mimetype": "text/x-python",
   "name": "python",
   "nbconvert_exporter": "python",
   "pygments_lexer": "ipython3",
   "version": "3.11.11"
  }
 },
 "nbformat": 4,
 "nbformat_minor": 5
}
