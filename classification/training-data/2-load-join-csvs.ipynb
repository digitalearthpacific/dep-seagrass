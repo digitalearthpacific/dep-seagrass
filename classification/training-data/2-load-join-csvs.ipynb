{
 "cells": [
  {
   "cell_type": "code",
   "execution_count": 3,
   "id": "e981cfe9-c768-477c-a66e-c6e7f41d1a6a",
   "metadata": {},
   "outputs": [],
   "source": [
    "import pandas as pd\n",
    "import geopandas as gpd\n",
    "import uuid"
   ]
  },
  {
   "cell_type": "code",
   "execution_count": 4,
   "id": "3222d5aa-37c4-4a63-b0c0-967df8c92021",
   "metadata": {},
   "outputs": [],
   "source": [
    "utanglang_df = gpd.read_file(\"postcard_utanglang_dataframe.csv\")"
   ]
  },
  {
   "cell_type": "code",
   "execution_count": 5,
   "id": "20eb2f60-bd68-4b2d-b912-e3aa1c5b44ae",
   "metadata": {},
   "outputs": [
    {
     "data": {
      "text/plain": [
       "field_1        object\n",
       "cc_id          object\n",
       "nir            object\n",
       "red            object\n",
       "blue           object\n",
       "green          object\n",
       "emad           object\n",
       "smad           object\n",
       "bcmad          object\n",
       "count          object\n",
       "nir08          object\n",
       "nir09          object\n",
       "swir16         object\n",
       "swir22         object\n",
       "coastal        object\n",
       "rededge1       object\n",
       "rededge2       object\n",
       "rededge3       object\n",
       "mndwi          object\n",
       "ndti           object\n",
       "cai            object\n",
       "ndvi           object\n",
       "ndwi           object\n",
       "b_g            object\n",
       "b_r            object\n",
       "mci            object\n",
       "ndci           object\n",
       "y              object\n",
       "x              object\n",
       "spatial_ref    object\n",
       "time           object\n",
       "dtype: object"
      ]
     },
     "execution_count": 5,
     "metadata": {},
     "output_type": "execute_result"
    }
   ],
   "source": [
    "utanglang_df.dtypes"
   ]
  },
  {
   "cell_type": "code",
   "execution_count": null,
   "id": "6f41efd9-7d96-4e70-a6e3-555376ffd14f",
   "metadata": {},
   "outputs": [],
   "source": []
  },
  {
   "cell_type": "code",
   "execution_count": null,
   "id": "6c5c04e9-19a6-42e1-8964-d070f8cd65e4",
   "metadata": {},
   "outputs": [],
   "source": []
  },
  {
   "cell_type": "code",
   "execution_count": null,
   "id": "ca27bcde-5978-4c91-9418-df4a25f7cc34",
   "metadata": {},
   "outputs": [],
   "source": []
  },
  {
   "cell_type": "code",
   "execution_count": null,
   "id": "2214e3d0-1244-4733-9f11-f92a438db6ff",
   "metadata": {},
   "outputs": [],
   "source": []
  },
  {
   "cell_type": "code",
   "execution_count": null,
   "id": "651a326f-fadc-49c7-b10a-2453fff473e3",
   "metadata": {},
   "outputs": [],
   "source": []
  },
  {
   "cell_type": "code",
   "execution_count": null,
   "id": "c817893b-da0e-4997-ad87-69ee0014d418",
   "metadata": {},
   "outputs": [],
   "source": []
  },
  {
   "cell_type": "code",
   "execution_count": null,
   "id": "d952cba1-9344-4218-a47f-e609e3a44611",
   "metadata": {},
   "outputs": [],
   "source": []
  }
 ],
 "metadata": {
  "kernelspec": {
   "display_name": "Python 3 (ipykernel)",
   "language": "python",
   "name": "python3"
  },
  "language_info": {
   "codemirror_mode": {
    "name": "ipython",
    "version": 3
   },
   "file_extension": ".py",
   "mimetype": "text/x-python",
   "name": "python",
   "nbconvert_exporter": "python",
   "pygments_lexer": "ipython3",
   "version": "3.10.15"
  }
 },
 "nbformat": 4,
 "nbformat_minor": 5
}
