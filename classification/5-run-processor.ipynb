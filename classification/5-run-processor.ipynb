{
 "cells": [
  {
   "cell_type": "markdown",
   "id": "7bbc26e9",
   "metadata": {},
   "source": [
    "# Run the processor step-by-step"
   ]
  },
  {
   "cell_type": "code",
   "execution_count": null,
   "id": "dc858e8c",
   "metadata": {},
   "outputs": [],
   "source": [
    "import folium\n",
    "import joblib\n",
    "from dask.distributed import Client\n",
    "from dep_tools.grids import PACIFIC_GRID_10\n",
    "from dep_tools.loaders import OdcLoader\n",
    "from dep_tools.searchers import PystacSearcher\n",
    "from odc.stac import configure_s3_access"
   ]
  },
  {
   "cell_type": "code",
   "execution_count": null,
   "id": "1d25aa9c",
   "metadata": {},
   "outputs": [],
   "source": [
    "# reload code\n",
    "%reload_ext autoreload\n",
    "%autoreload 2"
   ]
  },
  {
   "cell_type": "code",
   "execution_count": null,
   "id": "6e13923f",
   "metadata": {},
   "outputs": [],
   "source": [
    "# Set up S3 access\n",
    "configure_s3_access(aws_unsigned=True)\n",
    "\n",
    "# Configure Dask\n",
    "Client(n_workers=4, threads_per_worker=16, memory_limit=\"12GB\")"
   ]
  },
  {
   "cell_type": "code",
   "execution_count": null,
   "id": "8651cedc",
   "metadata": {},
   "outputs": [],
   "source": [
    "tile_index = (63, 20)  # SE Viti Levu\n",
    "# tile_index = (108, 17)  # Failed with OOM\n",
    "grid = PACIFIC_GRID_10\n",
    "geobox = grid.tile_geobox(tile_index)\n",
    "\n",
    "datetime = \"2024\"\n",
    "model = joblib.load(\"models/20250902c-alex.model\")\n",
    "\n",
    "geobox.explore()"
   ]
  },
  {
   "cell_type": "code",
   "execution_count": null,
   "id": "861ebf27",
   "metadata": {},
   "outputs": [],
   "source": [
    "searcher = PystacSearcher(\n",
    "    catalog=\"https://stac.digitalearthpacific.org\",\n",
    "    collections=[\"dep_s2_geomad\"],\n",
    "    datetime=datetime,\n",
    ")\n",
    "\n",
    "items = searcher.search(geobox)\n",
    "print(f\"Found {len(items)} items\")"
   ]
  },
  {
   "cell_type": "code",
   "execution_count": null,
   "id": "781796f6",
   "metadata": {},
   "outputs": [],
   "source": [
    "loader = OdcLoader(\n",
    "    chunks=dict(x=2024, y=2024),\n",
    "    fail_on_error=False,\n",
    "    measurements=[\n",
    "        \"nir\",\n",
    "        \"red\",\n",
    "        \"blue\",\n",
    "        \"green\",\n",
    "        \"emad\",\n",
    "        \"smad\",\n",
    "        \"bcmad\",\n",
    "        \"green\",\n",
    "        \"nir08\",\n",
    "        \"nir09\",\n",
    "        \"swir16\",\n",
    "        \"swir22\",\n",
    "        \"coastal\",\n",
    "        \"rededge1\",\n",
    "        \"rededge2\",\n",
    "        \"rededge3\",\n",
    "    ],  # List measurements so we don't get count\n",
    ")\n",
    "\n",
    "input_data = loader.load(items, geobox)\n",
    "input_data"
   ]
  },
  {
   "cell_type": "code",
   "execution_count": null,
   "id": "0ff5fbc1",
   "metadata": {},
   "outputs": [],
   "source": [
    "# from processor import SeagrassProcessor\n",
    "\n",
    "# # The actual processor, doing the work :muscle:\n",
    "# # Uncomment this and run it to test the real thing.\n",
    "# # The code in the cells below is copied from there, so replicates its work step-by-step\n",
    "\n",
    "# processor = SeagrassProcessor(\n",
    "#     model=model,\n",
    "#     probability_threshold=60,\n",
    "#     nodata_value=255,\n",
    "#     fast_mode=True\n",
    "# )\n",
    "\n",
    "# results = processor.process(input_data)\n",
    "# results"
   ]
  },
  {
   "cell_type": "code",
   "execution_count": null,
   "id": "aa3837cf",
   "metadata": {},
   "outputs": [],
   "source": [
    "# from ipyleaflet import basemaps\n",
    "\n",
    "# m = folium.Map(\n",
    "#     location=geobox.geographic_extent.centroid.coords[0][::-1],\n",
    "#     zoom_start=10,\n",
    "#     tiles=basemaps.Esri.WorldImagery,\n",
    "# )\n",
    "\n",
    "# for var in results.data_vars:\n",
    "#     results[var].odc.explore(m, name=var)\n",
    "\n",
    "# # Layer control\n",
    "# folium.LayerControl().add_to(m)\n",
    "\n",
    "# m"
   ]
  },
  {
   "cell_type": "code",
   "execution_count": null,
   "id": "4c8f440e",
   "metadata": {},
   "outputs": [],
   "source": [
    "from utils import (\n",
    "    scale,\n",
    "    calculate_band_indices,\n",
    "    texture,\n",
    "    do_prediction,\n",
    "    probability_binary,\n",
    "    extract_single_class,\n",
    ")\n",
    "from masking import all_masks\n",
    "import xarray as xr\n",
    "\n",
    "target_class_id = 4\n",
    "fast_mode = True\n",
    "probability_threshold = 60\n",
    "nodata_value = 255\n",
    "\n",
    "# Scale data to values of 0-1 so that we can calculate indices properly\n",
    "scaled_data = scale(input_data).squeeze(drop=True)\n",
    "\n",
    "# Load data into memory here, before we do intensive things like texture\n",
    "loaded_data = scaled_data.compute()\n",
    "loaded_data"
   ]
  },
  {
   "cell_type": "code",
   "execution_count": null,
   "id": "c9fd860d",
   "metadata": {},
   "outputs": [],
   "source": [
    "loaded_data.odc.explore(vmin=0, vmax=0.3, bands=[\"red\", \"green\", \"blue\"])"
   ]
  },
  {
   "cell_type": "code",
   "execution_count": null,
   "id": "586c900d",
   "metadata": {},
   "outputs": [],
   "source": [
    "# Compute indices\n",
    "data_indices = calculate_band_indices(loaded_data)\n",
    "data_indices"
   ]
  },
  {
   "cell_type": "code",
   "execution_count": null,
   "id": "d2266d82",
   "metadata": {},
   "outputs": [],
   "source": [
    "data_indices.mndwi.odc.explore(cmap=\"Blues\")"
   ]
  },
  {
   "cell_type": "code",
   "execution_count": null,
   "id": "db6b55d2",
   "metadata": {},
   "outputs": [],
   "source": [
    "# Calculate the texture data on unmasked data\n",
    "texture_data = texture(data_indices.blue, levels=32).compute()\n",
    "texture_data"
   ]
  },
  {
   "cell_type": "code",
   "execution_count": null,
   "id": "dd47e138",
   "metadata": {},
   "outputs": [],
   "source": [
    "texture_data.entropy.plot.imshow()"
   ]
  },
  {
   "cell_type": "code",
   "execution_count": null,
   "id": "68a263c0",
   "metadata": {},
   "outputs": [],
   "source": [
    "# Combine the two datasets before applying the mask\n",
    "combined_data = xr.merge([data_indices, texture_data])\n",
    "\n",
    "# Mask all the data\n",
    "masked_scaled, mask = all_masks(combined_data, return_mask=True)\n",
    "\n",
    "mask.plot.imshow()"
   ]
  },
  {
   "cell_type": "code",
   "execution_count": null,
   "id": "fd477234",
   "metadata": {},
   "outputs": [],
   "source": [
    "from masking import mask_land, mask_deeps, mask_elevation, mask_surf, apply_mask\n",
    "\n",
    "ds = combined_data\n",
    "\n",
    "_, land_mask = mask_land(ds, return_mask=True)\n",
    "\n",
    "land_mask.plot.imshow()"
   ]
  },
  {
   "cell_type": "code",
   "execution_count": null,
   "id": "8f973251",
   "metadata": {},
   "outputs": [],
   "source": [
    "_, deeps_mask = mask_deeps(ds, return_mask=True)\n",
    "deeps_mask.plot.imshow()"
   ]
  },
  {
   "cell_type": "code",
   "execution_count": null,
   "id": "714fb262",
   "metadata": {},
   "outputs": [],
   "source": [
    "_, elevation_mask = mask_elevation(ds, return_mask=True)\n",
    "elevation_mask.plot.imshow()"
   ]
  },
  {
   "cell_type": "code",
   "execution_count": null,
   "id": "86e6a820",
   "metadata": {},
   "outputs": [],
   "source": [
    "# Pass the water_area_mask to mask_surf\n",
    "print(\"Applying surf mask...\")\n",
    "_, surf_mask = mask_surf(\n",
    "    ds=ds,\n",
    "    water_area_mask=~land_mask,\n",
    "    return_mask=True,\n",
    "    # You can also pass surf_blue_threshold, surf_green_threshold, etc. here if you want to customize them\n",
    ")\n",
    "\n",
    "surf_mask.plot.imshow()"
   ]
  },
  {
   "cell_type": "code",
   "execution_count": null,
   "id": "232549b7",
   "metadata": {},
   "outputs": [],
   "source": [
    "# Combine all masks. All individual masks are now False for areas to KEEP.\n",
    "mask = land_mask | deeps_mask | elevation_mask | surf_mask\n",
    "mask.plot.imshow()"
   ]
  },
  {
   "cell_type": "code",
   "execution_count": null,
   "id": "73eaf124",
   "metadata": {},
   "outputs": [],
   "source": [
    "final_data = apply_mask(ds, ~mask, None, False)\n",
    "final_data"
   ]
  },
  {
   "cell_type": "code",
   "execution_count": null,
   "id": "5e8f110c",
   "metadata": {},
   "outputs": [],
   "source": [
    "# mask.odc.explore(cmap=\"Reds_r\", vmin=1, vmax=2)\n",
    "final_data[[\"red\", \"green\", \"blue\"]].to_array().plot.imshow(vmin=0, vmax=0.3, size=8)"
   ]
  },
  {
   "cell_type": "code",
   "execution_count": null,
   "id": "cc268da6",
   "metadata": {},
   "outputs": [],
   "source": [
    "# Run the prediction\n",
    "classification, probability = do_prediction(final_data, model, target_class_id)\n",
    "\n",
    "seagrass_threshold = probability_binary(\n",
    "    probability,\n",
    "    probability_threshold,\n",
    "    nodata_value=nodata_value,\n",
    ")\n",
    "\n",
    "seagrass_class = extract_single_class(\n",
    "    classification,\n",
    "    target_class_id,\n",
    ")\n",
    "\n",
    "output = xr.Dataset(\n",
    "    {\n",
    "        \"classification\": classification,\n",
    "        \"seagrass_probability\": probability,\n",
    "        \"seagrass_threshold_60\": seagrass_threshold,\n",
    "        \"seagrass\": seagrass_class,\n",
    "    }\n",
    ")\n",
    "\n",
    "for var in output.data_vars:\n",
    "    print(f\"{var}: {output[var].dtype}\")\n",
    "    output[var].odc.nodata = nodata_value\n",
    "    output[var].attrs[\"_FillValue\"] = nodata_value\n",
    "\n",
    "output"
   ]
  },
  {
   "cell_type": "code",
   "execution_count": null,
   "id": "97bd41d6",
   "metadata": {},
   "outputs": [],
   "source": [
    "for var in output.data_vars:\n",
    "    print(var, output[var].dtype)"
   ]
  },
  {
   "cell_type": "code",
   "execution_count": null,
   "id": "395a7716",
   "metadata": {},
   "outputs": [],
   "source": [
    "_ = output.seagrass_probability.plot.hist(bins=100)"
   ]
  },
  {
   "cell_type": "code",
   "execution_count": null,
   "id": "7a275fe4",
   "metadata": {},
   "outputs": [],
   "source": [
    "from ipyleaflet import basemaps\n",
    "\n",
    "m = folium.Map(\n",
    "    location=geobox.geographic_extent.centroid.coords[0][::-1],\n",
    "    zoom_start=10,\n",
    "    tiles=basemaps.Esri.WorldImagery,\n",
    ")\n",
    "\n",
    "for var in output.data_vars:\n",
    "    output[var].odc.explore(m, name=var)\n",
    "\n",
    "# Layer control\n",
    "folium.LayerControl().add_to(m)\n",
    "\n",
    "m"
   ]
  }
 ],
 "metadata": {
  "kernelspec": {
   "display_name": "Python 3",
   "language": "python",
   "name": "python3"
  },
  "language_info": {
   "codemirror_mode": {
    "name": "ipython",
    "version": 3
   },
   "file_extension": ".py",
   "mimetype": "text/x-python",
   "name": "python",
   "nbconvert_exporter": "python",
   "pygments_lexer": "ipython3",
   "version": "3.11.11"
  }
 },
 "nbformat": 4,
 "nbformat_minor": 5
}
