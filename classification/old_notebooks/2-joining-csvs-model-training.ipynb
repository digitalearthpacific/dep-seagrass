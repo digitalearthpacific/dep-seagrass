{
 "cells": [
  {
   "cell_type": "code",
   "execution_count": null,
   "id": "0c5772ca-3506-4d4e-ab8d-d9cb8531ed1a",
   "metadata": {},
   "outputs": [],
   "source": [
    "import pandas as pd\n",
    "import geopandas as gpd\n",
    "import uuid\n",
    "from datetime import datetime\n",
    "import os"
   ]
  },
  {
   "cell_type": "code",
   "execution_count": null,
   "id": "e4fea027-cda0-4635-aa64-7fe93a367fe6",
   "metadata": {},
   "outputs": [],
   "source": [
    "training_data = pd.read_csv(\"training-data/combined-training.csv\")\n",
    "training_data.head()"
   ]
  },
  {
   "cell_type": "code",
   "execution_count": null,
   "id": "cc335407-2266-408e-a568-5071ce982022",
   "metadata": {},
   "outputs": [],
   "source": [
    "gdfs = []\n",
    "csvs_path = \"training-data/csvs\"\n",
    "file_extension: str = \".csv\"\n",
    "\n",
    "for filename in os.listdir(csvs_path):\n",
    "    file_path = os.path.join(csvs_path, filename)\n",
    "    if os.path.isfile(file_path) and filename.endswith(file_extension):\n",
    "    # try:\n",
    "        gdf = pd.read_csv(file_path)\n",
    "        gdfs.append(gdf)\n",
    "        print(filename)\n",
    "\n",
    "combined_gdf = gpd.pd.concat(gdfs, ignore_index=True)\n",
    "combined_gdf"
   ]
  },
  {
   "cell_type": "code",
   "execution_count": null,
   "id": "b7ecc2c6-64f3-4f74-a373-118157b99690",
   "metadata": {},
   "outputs": [],
   "source": [
    "# csvs_list=pd.load_geofiles_from_folder(\"training-data/csvs\")\n",
    "# all_csvs=gpd.pd.concat(csvs_list, ignore_index=True).to_crs(\"EPSG:4326\")"
   ]
  },
  {
   "cell_type": "code",
   "execution_count": null,
   "id": "08888d5e-db96-4cfc-b3fa-ccf634d0ce89",
   "metadata": {},
   "outputs": [],
   "source": [
    "# suva_df = gpd.read_file(\"postcard_suva_dataframe.csv\")\n",
    "# yanuca_df = gpd.read_file(\"postcard_yanuca_dataframe.csv\")\n",
    "# korotogo_df = gpd.read_file(\"postcard_korotogo_dataframe.csv\")\n",
    "# serua_df = gpd.read_file(\"training-data/nm-serua-17072025-training.csv\")\n",
    "# utanglang_df = gpd.read_file(\"postcard_utanglang_dataframe.csv\")\n",
    "# ba_df = gpd.read_file(\"postcard_ba_dataframe.csv\")\n",
    "# bootless_df = gpd.read_file(\"training-data/nm-bootless-16072025-training.csv\")\n",
    "# png_gabagaba_df = gpd.read_file(\"postcard_gabagaba_dataframe.csv\")"
   ]
  },
  {
   "cell_type": "code",
   "execution_count": null,
   "id": "3eb06886-e5ed-4512-8735-67f3463a4084",
   "metadata": {},
   "outputs": [],
   "source": [
    "combined_gdf = combined_gdf.astype(\"float32\")"
   ]
  },
  {
   "cell_type": "code",
   "execution_count": null,
   "id": "865651e1-90a6-4f5a-aee8-354137b36ddd",
   "metadata": {},
   "outputs": [],
   "source": [
    "combined_gdf.dtypes"
   ]
  },
  {
   "cell_type": "code",
   "execution_count": null,
   "id": "3d81d16d-7feb-427e-8947-a2104569e9bd",
   "metadata": {},
   "outputs": [],
   "source": [
    "combined_gdf['cc_id'].dtype"
   ]
  },
  {
   "cell_type": "code",
   "execution_count": null,
   "id": "9f0ca9bc-d586-4bcd-af82-62b3b46a23dc",
   "metadata": {},
   "outputs": [],
   "source": [
    "print(combined_gdf['cc_id'].value_counts())"
   ]
  },
  {
   "cell_type": "code",
   "execution_count": null,
   "id": "4622b4b5-155f-4d1e-8199-571913d778ae",
   "metadata": {},
   "outputs": [],
   "source": [
    "print(len(combined_gdf))\n",
    "print"
   ]
  },
  {
   "cell_type": "code",
   "execution_count": null,
   "id": "b5ff6636-cb4f-4237-8e61-9a280a4d8cbf",
   "metadata": {},
   "outputs": [],
   "source": [
    "print(len(combined_gdf.columns))"
   ]
  },
  {
   "cell_type": "code",
   "execution_count": null,
   "id": "e0d0517f-c710-4510-835b-4d9a24fb2280",
   "metadata": {},
   "outputs": [],
   "source": [
    "combined_gdf = combined_gdf.drop(columns=[\"x\", \"y\"])"
   ]
  },
  {
   "cell_type": "code",
   "execution_count": null,
   "id": "d1f2b47e-5775-44b2-91a3-a776a8331796",
   "metadata": {},
   "outputs": [],
   "source": [
    "combined_gdf.to_csv(\"training-data/\"f\"{version}-joined_tdata.csv\", index=False)"
   ]
  },
  {
   "cell_type": "code",
   "execution_count": null,
   "id": "de04addb-ee0b-4aeb-8f4e-5aa4dbb877a1",
   "metadata": {},
   "outputs": [],
   "source": [
    "joined_tdata = combined_gdf\n",
    "print(joined_tdata['cc_id'].nunique(),'unique classes')"
   ]
  },
  {
   "cell_type": "code",
   "execution_count": null,
   "id": "8247b332-edb7-4601-9e0f-fb1256e64e8a",
   "metadata": {},
   "outputs": [],
   "source": [
    "len(joined_tdata)"
   ]
  },
  {
   "cell_type": "code",
   "execution_count": null,
   "id": "cca67757-a187-4f93-92a7-c0af1e0d13a2",
   "metadata": {},
   "outputs": [],
   "source": [
    "print(joined_tdata['cc_id'].value_counts())"
   ]
  },
  {
   "cell_type": "code",
   "execution_count": null,
   "id": "ee41e060-3c71-4f1d-afe7-dc2f4c18339c",
   "metadata": {},
   "outputs": [],
   "source": [
    "joined_tdata.dtypes"
   ]
  },
  {
   "cell_type": "code",
   "execution_count": null,
   "id": "a6029953-5052-4590-ae5c-c708dafbf164",
   "metadata": {},
   "outputs": [],
   "source": [
    "# joined_tdata = joined_tdata.astype(float)"
   ]
  },
  {
   "cell_type": "code",
   "execution_count": null,
   "id": "1585a55e-4887-4c3a-87c6-c82f5914fcff",
   "metadata": {},
   "outputs": [],
   "source": [
    "# new_groups = ['sediment', 'sand', 'rubble', 'seagrass', 'seaweed', 'coral', 'rock', 'deeps', 'mangrove', 'land']\n",
    "# old_categories = [1, 2, 3, 4, 5, 6, 7, 8, 9, 10]\n",
    "\n",
    "# category_mapping_2 = dict(zip(old_categories, new_groups))\n",
    "# joined_tdata['observed'] = joined_tdata['cc_id'].map(category_mapping_2)"
   ]
  },
  {
   "cell_type": "code",
   "execution_count": null,
   "id": "3c0b07af-e842-4489-9f58-b0c8c751143b",
   "metadata": {},
   "outputs": [],
   "source": [
    "joined_tdata"
   ]
  },
  {
   "cell_type": "code",
   "execution_count": null,
   "id": "b5437bea-b1e6-45c8-a26a-a207d06008e2",
   "metadata": {},
   "outputs": [],
   "source": [
    "# joined_tdata['observed']=joined_tdata['observed'].astype(object)"
   ]
  },
  {
   "cell_type": "code",
   "execution_count": null,
   "id": "0278d5ef-b7dc-43d7-be21-151b511d12cd",
   "metadata": {},
   "outputs": [],
   "source": [
    "print(joined_tdata['cc_id'].value_counts())"
   ]
  },
  {
   "cell_type": "code",
   "execution_count": null,
   "id": "13552b4c-ba07-4d88-9eec-d62f72b3f4fb",
   "metadata": {},
   "outputs": [],
   "source": [
    "# joined_tdata = joined_tdata.rename(columns={\"lulc\": \"observed\", \"class_id\": \"cc_id\"})"
   ]
  },
  {
   "cell_type": "code",
   "execution_count": null,
   "id": "bb05bd9f-7068-47e8-b365-a36355e8b1b1",
   "metadata": {},
   "outputs": [],
   "source": [
    "# joined_tdata"
   ]
  },
  {
   "cell_type": "code",
   "execution_count": null,
   "id": "830fb991-c2b2-4d35-aa53-7f4a41cc7564",
   "metadata": {},
   "outputs": [],
   "source": []
  }
 ],
 "metadata": {
  "kernelspec": {
   "display_name": "Python 3",
   "language": "python",
   "name": "python3"
  },
  "language_info": {
   "codemirror_mode": {
    "name": "ipython",
    "version": 3
   },
   "file_extension": ".py",
   "mimetype": "text/x-python",
   "name": "python",
   "nbconvert_exporter": "python",
   "pygments_lexer": "ipython3",
   "version": "3.11.11"
  }
 },
 "nbformat": 4,
 "nbformat_minor": 5
}
