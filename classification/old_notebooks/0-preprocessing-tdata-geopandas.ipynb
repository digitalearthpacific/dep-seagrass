{
 "cells": [
  {
   "cell_type": "code",
   "execution_count": null,
   "id": "0c5772ca-3506-4d4e-ab8d-d9cb8531ed1a",
   "metadata": {},
   "outputs": [],
   "source": [
    "from datetime import datetime\n",
    "import pandas as pd\n",
    "import geopandas as gpd\n",
    "from utils import standardise"
   ]
  },
  {
   "cell_type": "code",
   "execution_count": null,
   "id": "d596f5d4-9763-4133-ac4b-2c93a0ee18d6",
   "metadata": {},
   "outputs": [],
   "source": [
    "# Predefined variable for title and version\n",
    "date = datetime.now()\n",
    "# Enter\n",
    "initials = \"nm\"\n",
    "site = \"suva_west\"\n",
    "\n",
    "version = f\"{initials}-{site}-{date.strftime('%d%m%Y')}\"\n",
    "print(version)"
   ]
  },
  {
   "cell_type": "code",
   "execution_count": null,
   "id": "cfa94036-9fd2-4507-bc5e-59ef0b78f00e",
   "metadata": {},
   "outputs": [],
   "source": [
    "# Read reference tdata with correct schema \n",
    "tdata = gpd.read_file(\"training-data/\"f\"{site}_postcard.geojson\")"
   ]
  },
  {
   "cell_type": "code",
   "execution_count": null,
   "id": "2b438411-b5ac-4f39-a005-22a6cb4e2069",
   "metadata": {},
   "outputs": [],
   "source": [
    "tdata"
   ]
  },
  {
   "cell_type": "code",
   "execution_count": null,
   "id": "f263c88e-1207-4fe2-9abb-95a240261aa2",
   "metadata": {},
   "outputs": [],
   "source": [
    "tdata['observed'] = tdata['coastal_class']"
   ]
  },
  {
   "cell_type": "code",
   "execution_count": null,
   "id": "328a0cc6-c66e-4be7-941c-fd21df65e43a",
   "metadata": {},
   "outputs": [],
   "source": [
    "print('list of', tdata['observed'].nunique(),'unique classes')\n",
    "print(tdata['observed'].unique())"
   ]
  },
  {
   "cell_type": "code",
   "execution_count": null,
   "id": "cca67757-a187-4f93-92a7-c0af1e0d13a2",
   "metadata": {},
   "outputs": [],
   "source": [
    "print(tdata['observed'].value_counts())\n",
    "print('total gps points',(len(tdata)))"
   ]
  },
  {
   "cell_type": "code",
   "execution_count": null,
   "id": "fe23c85c-b981-43c7-993b-beea8ed7f03b",
   "metadata": {
    "scrolled": true
   },
   "outputs": [],
   "source": [
    "tdata.explore(column='observed')"
   ]
  },
  {
   "cell_type": "code",
   "execution_count": null,
   "id": "450f0a3b-1454-4c02-bb98-81230dca2eae",
   "metadata": {},
   "outputs": [],
   "source": [
    "# tdata = tdata.drop(columns=[\"fid\"])\n",
    "# tdata = tdata.drop(columns=[\"Surveyor\"])\n",
    "tdata"
   ]
  },
  {
   "cell_type": "code",
   "execution_count": null,
   "id": "02e11809-50de-4a48-9f42-cb52168611e7",
   "metadata": {},
   "outputs": [],
   "source": [
    "# tdata.to_file(\"training-data/\"f\"{version}_postcard.geojson\")"
   ]
  },
  {
   "cell_type": "code",
   "execution_count": null,
   "id": "f842a7aa-7be0-4ce0-b627-705a2bb15618",
   "metadata": {},
   "outputs": [],
   "source": [
    "### Classes\n",
    "classes = [  \n",
    "    [1, \"sediment\", \"#8c8c8c\"],  \n",
    "    [2, \"sand\", \"#fedd24\"],  \n",
    "    [3, \"rubble\", \"#f8ffb4\"],  \n",
    "    [4, \"seagrass\", \"#6df7dc\"],  \n",
    "    [5, \"seaweed\", \"#b9df6f\"],  \n",
    "    [6, \"coral\", \"#a011c3\"],  \n",
    "    [7, \"rock\", \"#804600\"],  \n",
    "    [8, \"deeps\", \"#011b61\"],  \n",
    "    [9, \"mangrove\", \"#086a39\"],   \n",
    "    [10, \"land\", \"#ffffff\"],  \n",
    "]"
   ]
  },
  {
   "cell_type": "code",
   "execution_count": null,
   "id": "0e103d17-fa2f-4a53-9239-e52a00ece800",
   "metadata": {},
   "outputs": [],
   "source": [
    "tdata"
   ]
  },
  {
   "cell_type": "code",
   "execution_count": null,
   "id": "6d0b8407-c680-4b79-ba52-1fd900256396",
   "metadata": {},
   "outputs": [],
   "source": [
    "tdata['observed'] = tdata['coastal_class'].replace('seaweed', 'algae') #: This method is called on the Series (the column) and replaces all occurrences of 'old_value' with 'new_value'.\n",
    "\n"
   ]
  },
  {
   "cell_type": "code",
   "execution_count": null,
   "id": "37802383-dbc9-4cb6-889e-41e0a00dbf59",
   "metadata": {},
   "outputs": [],
   "source": [
    "# tdata = tdata.drop(columns=[\"id\"])\n",
    "# tdata[\"cc_id\"] = tdata[\"observed_id\"]\n",
    "tdata"
   ]
  },
  {
   "cell_type": "code",
   "execution_count": null,
   "id": "1585a55e-4887-4c3a-87c6-c82f5914fcff",
   "metadata": {},
   "outputs": [],
   "source": [
    "# Define two lists\n",
    "old_categories = ['sediment', 'sand', 'rubble', 'seagrass', 'algae', 'coral', 'rock', 'deeps', 'mangrove', 'land']\n",
    "new_groups = [1, 2, 3, 4, 5, 6, 7, 8, 9, 10]\n",
    "\n",
    "# Create the mapping dictionary\n",
    "category_mapping = dict(zip(old_categories, new_groups))\n",
    "\n",
    "# Apply mapping\n",
    "# tdata['observed_id'] = tdata['observed'].map(category_mapping)\n",
    "tdata['cc_id'] = tdata['observed'].map(category_mapping)\n",
    "\n",
    "# Print the result\n",
    "print(tdata.columns)"
   ]
  },
  {
   "cell_type": "code",
   "execution_count": null,
   "id": "2b5373ec-30f8-4404-976b-9129b96657a7",
   "metadata": {},
   "outputs": [],
   "source": [
    "tdata"
   ]
  },
  {
   "cell_type": "code",
   "execution_count": null,
   "id": "835da420-b885-4610-9b74-e3f41e368ea3",
   "metadata": {},
   "outputs": [],
   "source": [
    "tdata = tdata.drop(columns=['coastal_class', 'fid'])\n",
    "# tdata = tdata.drop(columns=[\"Surveyor\"])\n"
   ]
  },
  {
   "cell_type": "code",
   "execution_count": null,
   "id": "f4e983fd-c995-4112-98a0-e3c9b5d23eab",
   "metadata": {},
   "outputs": [],
   "source": [
    "tdata = tdata.to_crs(\"EPSG:4326\")"
   ]
  },
  {
   "cell_type": "code",
   "execution_count": null,
   "id": "15736089-3bd5-4c21-bbbd-cd1d15ef8db7",
   "metadata": {},
   "outputs": [],
   "source": [
    "tdata.to_file(\"training-data/postcards/\"f\"{version}_postcard.geojson\")"
   ]
  },
  {
   "cell_type": "code",
   "execution_count": null,
   "id": "fd077a6e-e7bf-484c-a19d-4c3a6b19e56c",
   "metadata": {},
   "outputs": [],
   "source": [
    "print(tdata['observed'].value_counts())\n",
    "print('total gps points',(len(tdata)))"
   ]
  },
  {
   "cell_type": "code",
   "execution_count": null,
   "id": "d1dc4b35-43d8-44fc-8b95-5601eac848b7",
   "metadata": {},
   "outputs": [],
   "source": [
    "print(tdata['cc_id'].value_counts())\n",
    "print('total gps points',(len(tdata)))"
   ]
  },
  {
   "cell_type": "code",
   "execution_count": null,
   "id": "b7ff4623-6778-400c-a042-48444a4b90d8",
   "metadata": {},
   "outputs": [],
   "source": [
    "stop"
   ]
  },
  {
   "cell_type": "code",
   "execution_count": null,
   "id": "7fd4f233-cdaf-452e-95f2-b20b8df96cbf",
   "metadata": {},
   "outputs": [],
   "source": [
    "# Read reference tdata with correct schema \n",
    "tdata = gpd.read_file(\"training-data/\"f\"{site}_postcard.geojson\")"
   ]
  },
  {
   "cell_type": "code",
   "execution_count": null,
   "id": "b91a12ae-9739-4761-9077-50cb19edb2d3",
   "metadata": {},
   "outputs": [],
   "source": [
    "# Repeat for all post-processed notebooks\n",
    "standardise(\"training-data\", \"training-data/postcards\", \".geojson\")"
   ]
  },
  {
   "cell_type": "code",
   "execution_count": null,
   "id": "c5f1a30e-b905-461c-87d4-9bf463941325",
   "metadata": {},
   "outputs": [],
   "source": []
  },
  {
   "cell_type": "code",
   "execution_count": null,
   "id": "f2bafe2b-43da-4bce-965e-3cf846023ffe",
   "metadata": {},
   "outputs": [],
   "source": []
  }
 ],
 "metadata": {
  "kernelspec": {
   "display_name": "Python 3 (ipykernel)",
   "language": "python",
   "name": "python3"
  },
  "language_info": {
   "codemirror_mode": {
    "name": "ipython",
    "version": 3
   },
   "file_extension": ".py",
   "mimetype": "text/x-python",
   "name": "python",
   "nbconvert_exporter": "python",
   "pygments_lexer": "ipython3",
   "version": "3.10.18"
  }
 },
 "nbformat": 4,
 "nbformat_minor": 5
}
