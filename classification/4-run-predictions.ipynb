{
 "cells": [
  {
   "cell_type": "markdown",
   "id": "718f54c3-6d20-4ed0-9752-e1751e6b84e5",
   "metadata": {},
   "source": [
    "<img src=\"https://github.com/nicholasmetherall/digital-earth-pacific-macblue-activities/blob/main/attachments/images/DE_Pacific_banner.JPG?raw=true\" width=\"900\"/>\n",
    "\n",
    "Figure 1.1.a. Jupyter environment + Python notebooks\n",
    "\n",
    "# Digital Earth Pacific Notebook 1 prepare postcard and load data to csv\n",
    "\n",
    "The objective of this notebook is to prepare a geomad postcard for your AOI (masking, scaling and loading additional band ratios and spectral indices) and sampling all the datasets into a csv based on your training data geodataframe."
   ]
  },
  {
   "cell_type": "markdown",
   "id": "887498ee",
   "metadata": {},
   "source": [
    "## Step 1.1: Configure the environment"
   ]
  },
  {
   "cell_type": "code",
   "execution_count": 1,
   "id": "98bda661-ae78-4f82-82b3-e68a5aa32d78",
   "metadata": {},
   "outputs": [],
   "source": [
    "from datetime import datetime\n",
    "from shapely.geometry import Polygon\n",
    "from shapely import box\n",
    "from pyproj import CRS \n",
    "import folium\n",
    "import geopandas as gpd\n",
    "import numpy as np\n",
    "import pandas as pd\n",
    "import rasterio as rio\n",
    "import xarray as xr\n",
    "import rioxarray\n",
    "import joblib\n",
    "from ipyleaflet import basemaps\n",
    "from numpy.lib.stride_tricks import sliding_window_view\n",
    "import pystac_client\n",
    "import planetary_computer\n",
    "from odc.stac import load\n",
    "from pystac.client import Client\n",
    "from skimage.feature import graycomatrix, graycoprops\n",
    "from utils import load_data, scale, do_prediction, calculate_band_indices, apply_masks, elevation_mask, glcm_features"
   ]
  },
  {
   "cell_type": "code",
   "execution_count": 2,
   "id": "ba2c3e96-d81a-4a01-b638-20cde81d98f5",
   "metadata": {},
   "outputs": [
    {
     "name": "stdout",
     "output_type": "stream",
     "text": [
      "nm-honiara-15072025\n"
     ]
    }
   ],
   "source": [
    "# Predefined variable for title and version\n",
    "\n",
    "# Enter your initials\n",
    "initials = \"nm\"\n",
    "\n",
    "# Enter your site name\n",
    "site = \"honiara\"\n",
    "\n",
    "# Date\n",
    "date = datetime.now()\n",
    "\n",
    "# Make a clean version string\n",
    "version = f\"{initials}-{site}-{date.strftime('%d%m%Y')}\"\n",
    "print(version)"
   ]
  },
  {
   "cell_type": "markdown",
   "id": "abb62e5e-32bf-4ccd-8ac1-8e7c95102d5a",
   "metadata": {},
   "source": [
    "## Step 1.2: Configure STAC access and search parameters"
   ]
  },
  {
   "cell_type": "code",
   "execution_count": 3,
   "id": "975ca2ac-2484-4d63-8f54-e7370dd8764e",
   "metadata": {},
   "outputs": [],
   "source": [
    "catalog = \"https://stac.digitalearthpacific.org\"\n",
    "client = Client.open(catalog)"
   ]
  },
  {
   "cell_type": "code",
   "execution_count": 4,
   "id": "6f010cdf-e7ae-4d07-94fb-d33de1758634",
   "metadata": {},
   "outputs": [],
   "source": [
    "# ## Use training data bounds\n",
    "\n",
    "training = gpd.read_file(\"training-data/nm-honiara-14072025_postcard.geojson\")\n",
    "training = training.to_crs(\"EPSG:4326\")\n",
    "min_lon, min_lat, max_lon, max_lat = training.total_bounds\n",
    "\n",
    "bbox = [min_lon, min_lat, max_lon, max_lat]\n",
    "\n",
    "# TODO: configure colours...\n",
    "# training.explore(column=\"observed\")"
   ]
  },
  {
   "cell_type": "code",
   "execution_count": 5,
   "id": "96a580b2-f7cf-444c-bcd9-fb87088c4f3a",
   "metadata": {},
   "outputs": [
    {
     "name": "stdout",
     "output_type": "stream",
     "text": [
      "Found 2 items in for 2024\n"
     ]
    }
   ],
   "source": [
    "datetime = \"2024\"\n",
    "\n",
    "items = client.search(\n",
    "    collections=[\"dep_s2_geomad\"],\n",
    "    datetime=datetime,\n",
    "    bbox=bbox\n",
    ").item_collection()\n",
    "\n",
    "print(f\"Found {len(items)} items in for {datetime}\")"
   ]
  },
  {
   "cell_type": "code",
   "execution_count": 6,
   "id": "78e2abf4-e303-44bd-9747-e03419a42da9",
   "metadata": {},
   "outputs": [
    {
     "name": "stdout",
     "output_type": "stream",
     "text": [
      "<xarray.Dataset> Size: 241MB\n",
      "Dimensions:      (y: 2193, x: 2887, time: 1)\n",
      "Coordinates:\n",
      "  * y            (y) float64 18kB -1.029e+06 -1.029e+06 ... -1.05e+06 -1.05e+06\n",
      "  * x            (x) float64 23kB 1.105e+06 1.105e+06 ... 1.134e+06 1.134e+06\n",
      "    spatial_ref  int32 4B 3832\n",
      "  * time         (time) datetime64[ns] 8B 2024-01-01\n",
      "Data variables: (12/16)\n",
      "    nir          (time, y, x) uint16 13MB dask.array<chunksize=(1, 2048, 2048), meta=np.ndarray>\n",
      "    red          (time, y, x) uint16 13MB dask.array<chunksize=(1, 2048, 2048), meta=np.ndarray>\n",
      "    blue         (time, y, x) uint16 13MB dask.array<chunksize=(1, 2048, 2048), meta=np.ndarray>\n",
      "    green        (time, y, x) uint16 13MB dask.array<chunksize=(1, 2048, 2048), meta=np.ndarray>\n",
      "    emad         (time, y, x) float32 25MB dask.array<chunksize=(1, 2048, 2048), meta=np.ndarray>\n",
      "    smad         (time, y, x) float32 25MB dask.array<chunksize=(1, 2048, 2048), meta=np.ndarray>\n",
      "    ...           ...\n",
      "    swir16       (time, y, x) uint16 13MB dask.array<chunksize=(1, 2048, 2048), meta=np.ndarray>\n",
      "    swir22       (time, y, x) uint16 13MB dask.array<chunksize=(1, 2048, 2048), meta=np.ndarray>\n",
      "    coastal      (time, y, x) uint16 13MB dask.array<chunksize=(1, 2048, 2048), meta=np.ndarray>\n",
      "    rededge1     (time, y, x) uint16 13MB dask.array<chunksize=(1, 2048, 2048), meta=np.ndarray>\n",
      "    rededge2     (time, y, x) uint16 13MB dask.array<chunksize=(1, 2048, 2048), meta=np.ndarray>\n",
      "    rededge3     (time, y, x) uint16 13MB dask.array<chunksize=(1, 2048, 2048), meta=np.ndarray>\n"
     ]
    }
   ],
   "source": [
    "measurements = [\"nir\", \"red\", \"blue\", \"green\", \"emad\", \"smad\", \"bcmad\", \"count\", \"green\", \"nir08\", \"nir09\", \"swir16\", \"swir22\", \"coastal\", \"rededge1\", \"rededge2\", \"rededge3\"]\n",
    "data = load_data(\n",
    "    items,\n",
    "    measurements,\n",
    "    bbox,\n",
    ")\n",
    "    \n",
    "# Now you can use the 'data' variable\n",
    "print(data)"
   ]
  },
  {
   "cell_type": "code",
   "execution_count": 7,
   "id": "f514c9ea-39b8-44bc-a68f-33e632a7c648",
   "metadata": {},
   "outputs": [],
   "source": [
    "scaled = scale(data)\n",
    "scaled = scaled.compute().squeeze()"
   ]
  },
  {
   "cell_type": "code",
   "execution_count": 8,
   "id": "aa2b19a3",
   "metadata": {},
   "outputs": [],
   "source": [
    "# Explore the site we are working on\n",
    "# scaled.odc.explore(vmin=0, vmax=0.3, bands=[\"red\", \"green\", \"blue\"], crs=\"EPSG:3832\", name=site)"
   ]
  },
  {
   "cell_type": "code",
   "execution_count": 9,
   "id": "ec90a157-ddab-403b-9825-f8c4a6bcde1e",
   "metadata": {},
   "outputs": [],
   "source": [
    "scaled = calculate_band_indices(scaled)"
   ]
  },
  {
   "cell_type": "code",
   "execution_count": 10,
   "id": "16ccfec6-bc85-48a4-83eb-a7c2db3b1b74",
   "metadata": {},
   "outputs": [],
   "source": [
    "## Moderate land mask\n",
    "MNDWI_THRESHOLD = -0.2\n",
    "mndwi_mask = scaled.mndwi > MNDWI_THRESHOLD\n",
    "\n",
    "# mndwi_mask.odc.explore()"
   ]
  },
  {
   "cell_type": "code",
   "execution_count": 11,
   "id": "06436300-924b-41c2-b7ec-f0f3dd404d32",
   "metadata": {},
   "outputs": [],
   "source": [
    "ln_bg = scaled['ln_bg'].values.flatten()  # flatten in case it's multi-dimensional\n",
    "# Remove NaNs if present\n",
    "ln_bg = ln_bg[~np.isnan(ln_bg)]\n",
    "# Calculate mean and std\n",
    "mean = ln_bg.mean()\n",
    "std = ln_bg.std()\n"
   ]
  },
  {
   "cell_type": "code",
   "execution_count": 12,
   "id": "174d91e8",
   "metadata": {},
   "outputs": [],
   "source": [
    "# Deep ocean mask\n",
    "ln_bg_mask = scaled[\"ln_bg\"] < 0\n",
    "\n",
    "# ln_bg_mask.odc.explore()"
   ]
  },
  {
   "cell_type": "code",
   "execution_count": 13,
   "id": "4c3cd4db-9eaa-4ac1-82e4-9b12eb309f07",
   "metadata": {},
   "outputs": [],
   "source": [
    "e84_catalog = \"https://earth-search.aws.element84.com/v1/\"\n",
    "e84_client = Client.open(e84_catalog)\n",
    "collection = \"cop-dem-glo-30\"\n",
    "\n",
    "items = e84_client.search(\n",
    "    collections=[collection],\n",
    "    bbox=bbox\n",
    ").item_collection()\n",
    "\n",
    "items\n",
    "\n",
    "# Using geobox means it will load the elevation data the same shape as the other data\n",
    "elevation = load(items, measurements=[\"data\"], geobox=data.odc.geobox).squeeze()\n",
    "\n",
    "# True where data is above 10m elevation\n",
    "elevation_mask = elevation.data < 10\n",
    "\n",
    "# elevation_mask.odc.explore()"
   ]
  },
  {
   "cell_type": "code",
   "execution_count": 14,
   "id": "acac4e05-6666-4620-aab2-acb48116fe1f",
   "metadata": {},
   "outputs": [],
   "source": [
    "masked = scaled.where(mndwi_mask)"
   ]
  },
  {
   "cell_type": "code",
   "execution_count": 15,
   "id": "aa09e3c7",
   "metadata": {},
   "outputs": [
    {
     "data": {
      "text/plain": [
       "<folium.map.LayerControl at 0x7f907c3ac910>"
      ]
     },
     "execution_count": 15,
     "metadata": {},
     "output_type": "execute_result"
    }
   ],
   "source": [
    "# elevation mask is having issues\n",
    "all_masks = mndwi_mask & ln_bg_mask & elevation_mask\n",
    "all_masks = all_masks.rio.write_crs(\"EPSG:3832\") # Use .rio.reproject\n",
    "\n",
    "centroid = scaled.odc.geobox.geographic_extent.centroid.coords[0][::-1]\n",
    "m = folium.Map(location=centroid, zoom_start=14)\n",
    "\n",
    "scaled.odc.to_rgba(bands=[\"red\", \"green\", \"blue\"], vmin=0, vmax=0.3).odc.add_to(m, name=\"RGB\")\n",
    "mndwi_mask.where(mndwi_mask == 0).odc.add_to(m, name=\"MNDWI Mask\", vmin=0, vmax=1)\n",
    "# ndti_mask.where(ndti_mask == 0).odc.add_to(m, name=\"NDTI Mask\", vmin=0, vmax=1)\n",
    "ln_bg_mask.where(ln_bg_mask == 0).odc.add_to(m, name=\"ln_bg Mask\", vmin=0, vmax=1)\n",
    "# all_masks.where(all_masks == 0).odc.add_to(m, name=\"All Masks\", vmin=0, vmax=1)\n",
    "all_masks.odc.add_to(m, name=\"All Masks\", vmin=0, vmax=1) \n",
    "\n",
    "folium.LayerControl().add_to(m)\n",
    "\n",
    "# m"
   ]
  },
  {
   "cell_type": "code",
   "execution_count": 16,
   "id": "684e1128",
   "metadata": {},
   "outputs": [],
   "source": [
    "# Now apply the mask, and view the masked region\n",
    "\n",
    "masked = scaled.where(all_masks)\n",
    "# masked.odc.explore(\n",
    "#     vmin=0, vmax=0.3, bands=[\"red\", \"green\", \"blue\"], name=f\"{site}-masked\", tiles=basemaps.OpenStreetMap.Mapnik  \n",
    "# )"
   ]
  },
  {
   "cell_type": "markdown",
   "id": "5e1b4340-0375-4e76-a228-44843530483b",
   "metadata": {},
   "source": [
    "### GLCM texture analysis\n",
    "\n",
    "The objective of this notebook was to train the machine learning model that will allow us to classify an area with land cover classes defined through the training data.\n",
    "\n",
    "Step 1.2. Input the training data to sample geomad data from the postcard"
   ]
  },
  {
   "cell_type": "code",
   "execution_count": 17,
   "id": "6cc6319c-a4e0-42a7-9408-1b131e0220c4",
   "metadata": {},
   "outputs": [
    {
     "name": "stderr",
     "output_type": "stream",
     "text": [
      "/tmp/ipykernel_8167/3068184428.py:8: RuntimeWarning: invalid value encountered in cast\n",
      "  img = ((masked.blue - min) / (max - min) * (LEVELS - 1)).clip(0, LEVELS - 1).values.astype(np.uint8)\n"
     ]
    }
   ],
   "source": [
    "WINDOW_SIZE = 9\n",
    "LEVELS = 32\n",
    "\n",
    "# Input\n",
    "max = masked.blue.max().values\n",
    "min = masked.blue.min().values\n",
    "# Scale to 0-LEVELS for GLCM\n",
    "img = ((masked.blue - min) / (max - min) * (LEVELS - 1)).clip(0, LEVELS - 1).values.astype(np.uint8)\n",
    "\n",
    "# Extract overlapping windows\n",
    "patches = sliding_window_view(img, (WINDOW_SIZE, WINDOW_SIZE))\n",
    "# Shape: (rows, cols, win_y, win_x)\n"
   ]
  },
  {
   "cell_type": "code",
   "execution_count": 18,
   "id": "64b0972e-bc50-4cbc-92d0-b985ec9dd417",
   "metadata": {},
   "outputs": [
    {
     "name": "stdout",
     "output_type": "stream",
     "text": [
      "Shape of sample_patch_data: (9, 9)\n",
      "Shape of glcm_features output for a single patch: (7,)\n"
     ]
    }
   ],
   "source": [
    "import numpy as np # Ensure numpy is imported if not already\n",
    "\n",
    "# Assuming 'patches' is a 4D NumPy array with dimensions (y_coords, x_coords, window_y_size, window_x_size)\n",
    "# To get the first patch (at y=0, x=0), you would index it like this:\n",
    "sample_patch_data = patches[0, 0, :, :]\n",
    "\n",
    "# Verify the shape of the extracted sample patch data\n",
    "print(f\"Shape of sample_patch_data: {sample_patch_data.shape}\")\n",
    "\n",
    "# Call glcm_features directly on this 2D sample data\n",
    "sample_result = glcm_features(sample_patch_data)\n",
    "\n",
    "# Print the shape of the result to get the number of features\n",
    "print(f\"Shape of glcm_features output for a single patch: {sample_result.shape}\")"
   ]
  },
  {
   "cell_type": "code",
   "execution_count": null,
   "id": "25e3c616",
   "metadata": {},
   "outputs": [],
   "source": [
    "# Use apply_ufunc to vectorize over (row, col) dimensions\n",
    "result = xr.apply_ufunc(\n",
    "    glcm_features,\n",
    "    xr.DataArray(patches, dims=[\"y\", \"x\", \"win_y\", \"win_x\"]),\n",
    "    input_core_dims=[[\"win_y\", \"win_x\"]],\n",
    "    output_core_dims=[[\"feature\"]],\n",
    "    vectorize=True,\n",
    "    dask=\"parallelized\",\n",
    "    output_dtypes=[np.float32]\n",
    ")\n",
    "\n",
    "# Add coordinates & names\n",
    "pad = WINDOW_SIZE - 1\n",
    "result = result.assign_coords({\n",
    "    \"y\": masked.y[: -pad],\n",
    "    \"x\": masked.x[: -pad],\n",
    "    \"feature\": [\"contrast\", \"homogeneity\", \"energy\", \"ASM\", \"correlation\", \"mean\", \"entropy\"]\n",
    "})\n",
    "\n",
    "result_bands = result.to_dataset(dim=\"feature\")\n",
    "\n",
    "# Combine with original\n",
    "masked_plus = masked.copy()\n",
    "masked_plus = masked_plus.assign(result_bands)\n",
    "masked_plus = masked_plus.drop_vars(\"count\")\n",
    "masked_plus\n"
   ]
  },
  {
   "cell_type": "code",
   "execution_count": null,
   "id": "1ca5712a-684a-4bb1-865f-d58f4d4ab069",
   "metadata": {},
   "outputs": [],
   "source": [
    "print(len(masked_plus.data_vars), 'columns')\n",
    "print('including', masked_plus.data_vars)"
   ]
  },
  {
   "cell_type": "code",
   "execution_count": null,
   "id": "f35ac0e7-056f-448e-8116-16b242cfc521",
   "metadata": {},
   "outputs": [],
   "source": [
    "\n",
    "# masked_plus.odc.explore(\n",
    "#     vmin=0, vmax=0.3, bands=[\"red\", \"green\", \"blue\"], name=f\"{site}-masked\", tiles=basemaps.Esri.WorldImagery\n",
    "# )"
   ]
  },
  {
   "cell_type": "code",
   "execution_count": null,
   "id": "c54e3951",
   "metadata": {},
   "outputs": [],
   "source": [
    "# Re-apply the mask\n",
    "masked_plus = masked_plus.where(all_masks)\n",
    "\n",
    "masked_da = masked_plus.to_dataarray()"
   ]
  },
  {
   "cell_type": "code",
   "execution_count": null,
   "id": "26beb44a-1d02-4755-a8e7-2ffd293d1b82",
   "metadata": {},
   "outputs": [],
   "source": [
    "# Convert to a stacked array of observations\n",
    "# stacked_arrays = stacked_arrays.squeeze()\n",
    "masked_da = masked_da.squeeze()#.stack(dims=[\"y\", \"x\"])#.transpose()\n",
    "# stacked_arrays = stacked_arrays.to_dataarray()"
   ]
  },
  {
   "cell_type": "code",
   "execution_count": null,
   "id": "ff8c57af-9d7a-4741-ac95-8cb4c238fd48",
   "metadata": {},
   "outputs": [],
   "source": [
    "stacked_arrays_2d = masked_da.stack(new_dim=(\"y\", \"x\")) \n",
    "reordered_data_array = stacked_arrays_2d.transpose('new_dim', 'variable')\n",
    "stacked_arrays_2d.shape\n"
   ]
  },
  {
   "cell_type": "code",
   "execution_count": null,
   "id": "b75aee4b-993e-46a1-8dd0-97aa78845c19",
   "metadata": {},
   "outputs": [],
   "source": [
    "# Replace any infinities with NaN\n",
    "stacked_arrays_2d = stacked_arrays_2d.where(stacked_arrays_2d != float(\"inf\"))\n",
    "stacked_arrays_2d = stacked_arrays_2d.where(stacked_arrays_2d != float(\"-inf\"))\n",
    "\n",
    "# Replace any NaN values with 0\n",
    "df = stacked_arrays_2d.squeeze().fillna(0).transpose().to_pandas()\n",
    "\n",
    "# Remove the all-zero rows\n",
    "zero_mask = (df == 0).all(axis=1)  # Creates a boolean Series\n",
    "non_zero_df = df.loc[~zero_mask]  # Filters out all-zero rows\n",
    "\n",
    "# Create a new array to hold the predictions\n",
    "full_pred = pd.Series(np.nan, index=df.index)\n",
    "\n",
    "reordered_data_array = stacked_arrays_2d.transpose('new_dim', 'variable')"
   ]
  },
  {
   "cell_type": "markdown",
   "id": "5a1e2811-4961-470f-a87a-8dc909a21fb1",
   "metadata": {},
   "source": [
    "## Model prediction"
   ]
  },
  {
   "cell_type": "code",
   "execution_count": null,
   "id": "537695ff-91cd-4391-a32f-b29b82d65619",
   "metadata": {},
   "outputs": [],
   "source": [
    "reordered_data_array"
   ]
  },
  {
   "cell_type": "code",
   "execution_count": null,
   "id": "1569f536-5e50-4daf-956a-4516a0a9ed92",
   "metadata": {},
   "outputs": [],
   "source": [
    "model = joblib.load(\"models/nm-15072025-test.model\")"
   ]
  },
  {
   "cell_type": "code",
   "execution_count": null,
   "id": "8e10130a-850f-4330-9a34-d12442d6523a",
   "metadata": {},
   "outputs": [],
   "source": [
    "## Predict the classes\n",
    "# predicted = model.predict(reordered_data_array)\n",
    "\n",
    "# Predict the classes\n",
    "predicted = model.predict(reordered_data_array)"
   ]
  },
  {
   "cell_type": "code",
   "execution_count": null,
   "id": "4b31a62f-adc2-494d-8667-39cdd2495b28",
   "metadata": {},
   "outputs": [],
   "source": [
    "# Reshape back to the original 2D array\n",
    "reordered_data_array = predicted.reshape(len(masked_plus.y), len(masked_plus.x))\n",
    "\n",
    "# Convert to an xarray again, because it's easier to work with\n",
    "predicted_da = xr.DataArray(\n",
    "    reordered_data_array, coords={\"y\": masked_plus.y, \"x\": masked_plus.x}, dims=[\"y\", \"x\"]\n",
    ")"
   ]
  },
  {
   "cell_type": "code",
   "execution_count": null,
   "id": "81c4e14c-b151-4585-9440-c1abfe9ef787",
   "metadata": {},
   "outputs": [],
   "source": [
    "# postcard_params = postcard_df.columns[1:]\n",
    "# print(postcard_params)"
   ]
  },
  {
   "cell_type": "code",
   "execution_count": null,
   "id": "8df90d61-30a2-4518-a8ee-be0e963b870d",
   "metadata": {},
   "outputs": [],
   "source": [
    "print(predicted_da.dtype)  # Check the dtype of your DataArray\n",
    "predicted_da = predicted_da.astype('float32')  # Convert to float32\n",
    "\n",
    "# Check for NaN values\n",
    "if np.isnan(predicted_da).any():\n",
    "    print(\"NaN values found in the data\")\n",
    "    # Handle NaN values, e.g. by filling them\n",
    "    predicted_da = predicted_da.fillna(0)  # Replace NaN with 0 or appropriate value"
   ]
  },
  {
   "cell_type": "code",
   "execution_count": null,
   "id": "270f3e37-7ef5-411f-9711-42b44bb691ea",
   "metadata": {},
   "outputs": [],
   "source": [
    "from matplotlib import colors\n",
    "\n",
    "classes = [\n",
    "    [1, \"sediment\", \"#8c8c8c\"],\n",
    "    [2, \"sand\", \"#fedd24\"],\n",
    "    [3, \"rubble\", \"#f8ffb4\"],\n",
    "    [4, \"seagrass\", \"#6df7dc\"],\n",
    "    [5, \"seaweed\", \"#b9df6f\"],\n",
    "    [6, \"coral\", \"#a011c3\"],\n",
    "    [7, \"rock\", \"#804600\"],\n",
    "    [8, \"deeps\", \"#011b61\"],\n",
    "    [9, \"mangrove\", \"#086a39\"],\n",
    "    [10, \"land\", \"#ffffff\"],\n",
    "]\n",
    "\n",
    "values_list = [c[0] for c in classes]\n",
    "color_list = [c[2] for c in classes]\n",
    "\n",
    "# Build a listed colormap.\n",
    "c_map = colors.ListedColormap(color_list)\n",
    "bounds = values_list + [14]\n",
    "norm = colors.BoundaryNorm(bounds, c_map.N)\n",
    "\n",
    "# predicted_da.plot.imshow(cmap=c_map, norm=norm, size=10)\n",
    "predicted_da.odc.explore(cmap=c_map, tiles=basemaps.Esri.WorldImagery)"
   ]
  },
  {
   "cell_type": "code",
   "execution_count": null,
   "id": "9f3128c2-6fb4-4743-ab91-d6c9b1966efa",
   "metadata": {},
   "outputs": [],
   "source": [
    "from matplotlib import colors\n",
    "\n",
    "classes = [\n",
    "    [1, \"sediment\", \"#00000000\"],\n",
    "    [2, \"sand\", \"#00000000\"],\n",
    "    [3, \"rubble\", \"#00000000\"],\n",
    "    [4, \"seagrass\", \"#6df7dc\"],\n",
    "    [5, \"seaweed\", \"#00000000\"],\n",
    "    [6, \"coral\", \"#00000000\"],\n",
    "    [7, \"rock\", \"#00000000\"],\n",
    "    [8, \"deeps\", \"#00000000\"],\n",
    "    [9, \"mangrove\", \"#00000000\"],\n",
    "    [10, \"land\", \"#00000000\"],\n",
    "]\n",
    "\n",
    "values_list = [c[0] for c in classes]\n",
    "color_list = [c[2] for c in classes]\n",
    "\n",
    "# Build a listed colormap.\n",
    "c_map_seagrass = colors.ListedColormap(color_list)\n",
    "bounds = values_list + [14]\n",
    "norm = colors.BoundaryNorm(bounds, c_map.N)\n",
    "\n",
    "predicted_da.odc.explore(cmap=c_map_seagrass, tiles=basemaps.Esri.WorldImagery)\n",
    "# predicted_da.plot.imshow(cmap=c_map_seagrass, norm=norm, size=10)"
   ]
  },
  {
   "cell_type": "code",
   "execution_count": null,
   "id": "98dd4c76-abdd-498a-9865-980458b3bbbf",
   "metadata": {},
   "outputs": [],
   "source": [
    "# predicted_da.odc.write_cog(f\"{version}.tiff\", overwrite=True)"
   ]
  }
 ],
 "metadata": {
  "kernelspec": {
   "display_name": "Python 3 (ipykernel)",
   "language": "python",
   "name": "python3"
  },
  "language_info": {
   "codemirror_mode": {
    "name": "ipython",
    "version": 3
   },
   "file_extension": ".py",
   "mimetype": "text/x-python",
   "name": "python",
   "nbconvert_exporter": "python",
   "pygments_lexer": "ipython3",
   "version": "3.10.18"
  }
 },
 "nbformat": 4,
 "nbformat_minor": 5
}
