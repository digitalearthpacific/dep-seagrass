{
 "cells": [
  {
   "cell_type": "code",
   "execution_count": 1,
   "id": "0c5772ca-3506-4d4e-ab8d-d9cb8531ed1a",
   "metadata": {},
   "outputs": [],
   "source": [
    "from datetime import datetime\n",
    "import pandas as pd\n",
    "import geopandas as gpd"
   ]
  },
  {
   "cell_type": "code",
   "execution_count": 2,
   "id": "d596f5d4-9763-4133-ac4b-2c93a0ee18d6",
   "metadata": {},
   "outputs": [],
   "source": [
    "# Predefined variable for title and version\n",
    "date = datetime.now()\n",
    "# Enter\n",
    "initials = \"nm\"\n",
    "site = \"utanglang\"\n",
    "\n",
    "version = f\"{initials}-{site}-{date.strftime('%d%m%Y')}\"\n",
    "# print(version)"
   ]
  },
  {
   "cell_type": "code",
   "execution_count": 4,
   "id": "cfa94036-9fd2-4507-bc5e-59ef0b78f00e",
   "metadata": {},
   "outputs": [],
   "source": [
    "# Read reference tdata with correct schema \n",
    "tdata = gpd.read_file(\"training-data/\"f\"{site}_postcard.geojson\")"
   ]
  },
  {
   "cell_type": "code",
   "execution_count": null,
   "id": "328a0cc6-c66e-4be7-941c-fd21df65e43a",
   "metadata": {},
   "outputs": [],
   "source": [
    "print('list of', tdata['observed'].nunique(),'unique classes')\n",
    "print(tdata['observed'].unique())"
   ]
  },
  {
   "cell_type": "code",
   "execution_count": null,
   "id": "cca67757-a187-4f93-92a7-c0af1e0d13a2",
   "metadata": {},
   "outputs": [],
   "source": [
    "print(tdata['observed'].value_counts())\n",
    "print('total gps points',(len(tdata)))"
   ]
  },
  {
   "cell_type": "code",
   "execution_count": null,
   "id": "fe23c85c-b981-43c7-993b-beea8ed7f03b",
   "metadata": {
    "scrolled": true
   },
   "outputs": [],
   "source": [
    "tdata.explore(column='observed')"
   ]
  },
  {
   "cell_type": "code",
   "execution_count": null,
   "id": "48b818ff-8443-441b-b20f-89c844078ba7",
   "metadata": {},
   "outputs": [],
   "source": [
    "tdata"
   ]
  },
  {
   "cell_type": "code",
   "execution_count": null,
   "id": "450f0a3b-1454-4c02-bb98-81230dca2eae",
   "metadata": {},
   "outputs": [],
   "source": [
    "tdata = tdata.drop(columns=[\"fid\"])\n",
    "# tdata = tdata.drop(columns=[\"Surveyor\"])\n",
    "tdata"
   ]
  },
  {
   "cell_type": "code",
   "execution_count": null,
   "id": "02e11809-50de-4a48-9f42-cb52168611e7",
   "metadata": {},
   "outputs": [],
   "source": [
    "tdata.to_file(\"training-data/\"f\"{version}_postcard.geojson\")"
   ]
  },
  {
   "cell_type": "markdown",
   "id": "a48324e5-622e-4bae-9208-e716e082907b",
   "metadata": {},
   "source": [
    "### Classes\n",
    "classes = [  \n",
    "    [1, \"sediment\", \"#8c8c8c\"],  \n",
    "    [2, \"sand\", \"#fedd24\"],  \n",
    "    [3, \"rubble\", \"#f8ffb4\"],  \n",
    "    [4, \"seagrass\", \"#6df7dc\"],  \n",
    "    [5, \"seaweed\", \"#b9df6f\"],  \n",
    "    [6, \"coral\", \"#a011c3\"],  \n",
    "    [7, \"rock\", \"#804600\"],  \n",
    "    [8, \"deeps\", \"#011b61\"],  \n",
    "    [9, \"mangrove\", \"#086a39\"],   \n",
    "    [10, \"land\", \"#ffffff\"],  \n"
   ]
  },
  {
   "cell_type": "code",
   "execution_count": null,
   "id": "15e9d4e5-f9bf-4ab8-8a77-db16416d650e",
   "metadata": {},
   "outputs": [],
   "source": [
    "# Predefined variable for title and version\n",
    "date = datetime.now()\n",
    "# Enter\n",
    "initials = \"nm\"\n",
    "site_2 = \"serua\"\n",
    "\n",
    "version_2 = f\"{initials}-{site_2}-{date.strftime('%d%m%Y')}\"\n",
    "# print(version)"
   ]
  },
  {
   "cell_type": "code",
   "execution_count": null,
   "id": "a973557e-a755-487b-a415-e9a7fcd1893b",
   "metadata": {},
   "outputs": [],
   "source": [
    "site_2 = \"serua\"\n",
    "tdata_2 = gpd.read_file(\"training-data/\"f\"{site_2}_postcard.geojson\")\n",
    "print(tdata_2.columns.unique)\n",
    "print(tdata_2['observed'].value_counts())\n",
    "print('total gps points',(len(tdata_2)))"
   ]
  },
  {
   "cell_type": "code",
   "execution_count": null,
   "id": "1585a55e-4887-4c3a-87c6-c82f5914fcff",
   "metadata": {},
   "outputs": [],
   "source": [
    "import geopandas as gpd\n",
    "\n",
    "# Define two lists\n",
    "old_categories = ['sediment', 'sand', 'rubble', 'seagrass', 'seaweed', 'coral', 'rock', 'deeps', 'mangrove', 'land']\n",
    "new_groups = [1, 2, 3, 4, 5, 6, 7, 8, 9, 10]\n",
    "\n",
    "# Create the mapping dictionary\n",
    "category_mapping = dict(zip(old_categories, new_groups))\n",
    "\n",
    "# Apply mapping\n",
    "tdata_2['observed_id'] = tdata_2['observed'].map(category_mapping)\n",
    "\n",
    "# Print the result\n",
    "print(tdata_2.columns)"
   ]
  },
  {
   "cell_type": "code",
   "execution_count": null,
   "id": "0e103d17-fa2f-4a53-9239-e52a00ece800",
   "metadata": {},
   "outputs": [],
   "source": [
    "tdata_2"
   ]
  },
  {
   "cell_type": "code",
   "execution_count": null,
   "id": "37802383-dbc9-4cb6-889e-41e0a00dbf59",
   "metadata": {},
   "outputs": [],
   "source": [
    "tdata_2 = tdata_2.drop(columns=[\"cc_id\", \"fid\", \"uuid\"])\n",
    "tdata_2"
   ]
  },
  {
   "cell_type": "code",
   "execution_count": null,
   "id": "15736089-3bd5-4c21-bbbd-cd1d15ef8db7",
   "metadata": {},
   "outputs": [],
   "source": [
    "tdata_2.to_file(\"training-data/\"f\"{version_2}_postcard.geojson\")"
   ]
  },
  {
   "cell_type": "code",
   "execution_count": null,
   "id": "fd077a6e-e7bf-484c-a19d-4c3a6b19e56c",
   "metadata": {},
   "outputs": [],
   "source": []
  }
 ],
 "metadata": {
  "kernelspec": {
   "display_name": "Python 3 (ipykernel)",
   "language": "python",
   "name": "python3"
  },
  "language_info": {
   "codemirror_mode": {
    "name": "ipython",
    "version": 3
   },
   "file_extension": ".py",
   "mimetype": "text/x-python",
   "name": "python",
   "nbconvert_exporter": "python",
   "pygments_lexer": "ipython3",
   "version": "3.10.18"
  }
 },
 "nbformat": 4,
 "nbformat_minor": 5
}
