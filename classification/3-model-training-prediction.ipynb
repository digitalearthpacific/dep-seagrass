{
 "cells": [
  {
   "cell_type": "markdown",
   "id": "718f54c3-6d20-4ed0-9752-e1751e6b84e5",
   "metadata": {},
   "source": [
    "<img src=\"https://github.com/nicholasmetherall/digital-earth-pacific-macblue-activities/blob/main/attachments/images/DE_Pacific_banner.JPG?raw=true\" width=\"900\"/>\n",
    "\n",
    "Figure 1.1.a. Jupyter environment + Python notebooks\n",
    "\n",
    "# Digital Earth Pacific Notebook 1 prepare postcard and load data to csv\n",
    "\n",
    "The objective of this notebook is to prepare a geomad postcard for your AOI (masking, scaling and loading additional band ratios and spectral indices) and sampling all the datasets into a csv based on your training data geodataframe."
   ]
  },
  {
   "cell_type": "markdown",
   "id": "887498ee",
   "metadata": {},
   "source": [
    "## Step 1.1: Configure the environment"
   ]
  },
  {
   "cell_type": "code",
   "execution_count": 1,
   "id": "98bda661-ae78-4f82-82b3-e68a5aa32d78",
   "metadata": {},
   "outputs": [],
   "source": [
    "from datetime import datetime\n",
    "from shapely.geometry import Polygon\n",
    "from shapely import box\n",
    "from pyproj import CRS \n",
    "import folium\n",
    "import geopandas as gpd\n",
    "import numpy as np\n",
    "import pandas as pd\n",
    "import rasterio as rio\n",
    "import xarray as xr\n",
    "import rioxarray\n",
    "from ipyleaflet import basemaps\n",
    "from numpy.lib.stride_tricks import sliding_window_view\n",
    "import pystac_client\n",
    "import planetary_computer\n",
    "from odc.stac import load\n",
    "from pystac.client import Client\n",
    "from skimage.feature import graycomatrix, graycoprops\n",
    "from utils import load_data, scale, do_prediction, calculate_band_indices, apply_masks, elevation_mask, glcm_features"
   ]
  },
  {
   "cell_type": "code",
   "execution_count": 2,
   "id": "ba2c3e96-d81a-4a01-b638-20cde81d98f5",
   "metadata": {},
   "outputs": [
    {
     "name": "stdout",
     "output_type": "stream",
     "text": [
      "nm-bootless-14072025\n"
     ]
    }
   ],
   "source": [
    "# Predefined variable for title and version\n",
    "\n",
    "# Enter your initials\n",
    "initials = \"nm\"\n",
    "\n",
    "# Enter your site name\n",
    "site = \"bootless\"\n",
    "\n",
    "# Date\n",
    "date = datetime.now()\n",
    "\n",
    "# Make a clean version string\n",
    "version = f\"{initials}-{site}-{date.strftime('%d%m%Y')}\"\n",
    "print(version)"
   ]
  },
  {
   "cell_type": "markdown",
   "id": "abb62e5e-32bf-4ccd-8ac1-8e7c95102d5a",
   "metadata": {},
   "source": [
    "## Step 1.2: Configure STAC access and search parameters"
   ]
  },
  {
   "cell_type": "code",
   "execution_count": 3,
   "id": "975ca2ac-2484-4d63-8f54-e7370dd8764e",
   "metadata": {},
   "outputs": [],
   "source": [
    "catalog = \"https://stac.digitalearthpacific.org\"\n",
    "client = Client.open(catalog)"
   ]
  },
  {
   "cell_type": "code",
   "execution_count": 4,
   "id": "6f010cdf-e7ae-4d07-94fb-d33de1758634",
   "metadata": {},
   "outputs": [
    {
     "ename": "DataSourceError",
     "evalue": "training-data/bootless-bay_postcard.geojson: No such file or directory",
     "output_type": "error",
     "traceback": [
      "\u001b[0;31m---------------------------------------------------------------------------\u001b[0m",
      "\u001b[0;31mDataSourceError\u001b[0m                           Traceback (most recent call last)",
      "Cell \u001b[0;32mIn[4], line 3\u001b[0m\n\u001b[1;32m      1\u001b[0m \u001b[38;5;66;03m# ## Use training data bounds\u001b[39;00m\n\u001b[0;32m----> 3\u001b[0m training \u001b[38;5;241m=\u001b[39m \u001b[43mgpd\u001b[49m\u001b[38;5;241;43m.\u001b[39;49m\u001b[43mread_file\u001b[49m\u001b[43m(\u001b[49m\u001b[38;5;124;43m\"\u001b[39;49m\u001b[38;5;124;43mtraining-data/bootless-bay_postcard.geojson\u001b[39;49m\u001b[38;5;124;43m\"\u001b[39;49m\u001b[43m)\u001b[49m\n\u001b[1;32m      4\u001b[0m training \u001b[38;5;241m=\u001b[39m training\u001b[38;5;241m.\u001b[39mto_crs(\u001b[38;5;124m\"\u001b[39m\u001b[38;5;124mEPSG:4326\u001b[39m\u001b[38;5;124m\"\u001b[39m)\n\u001b[1;32m      5\u001b[0m min_lon, min_lat, max_lon, max_lat \u001b[38;5;241m=\u001b[39m training\u001b[38;5;241m.\u001b[39mtotal_bounds\n",
      "File \u001b[0;32m/srv/conda/envs/notebook/lib/python3.10/site-packages/geopandas/io/file.py:317\u001b[0m, in \u001b[0;36m_read_file\u001b[0;34m(filename, bbox, mask, columns, rows, engine, **kwargs)\u001b[0m\n\u001b[1;32m    314\u001b[0m             filename \u001b[38;5;241m=\u001b[39m response\u001b[38;5;241m.\u001b[39mread()\n\u001b[1;32m    316\u001b[0m \u001b[38;5;28;01mif\u001b[39;00m engine \u001b[38;5;241m==\u001b[39m \u001b[38;5;124m\"\u001b[39m\u001b[38;5;124mpyogrio\u001b[39m\u001b[38;5;124m\"\u001b[39m:\n\u001b[0;32m--> 317\u001b[0m     \u001b[38;5;28;01mreturn\u001b[39;00m \u001b[43m_read_file_pyogrio\u001b[49m\u001b[43m(\u001b[49m\n\u001b[1;32m    318\u001b[0m \u001b[43m        \u001b[49m\u001b[43mfilename\u001b[49m\u001b[43m,\u001b[49m\u001b[43m \u001b[49m\u001b[43mbbox\u001b[49m\u001b[38;5;241;43m=\u001b[39;49m\u001b[43mbbox\u001b[49m\u001b[43m,\u001b[49m\u001b[43m \u001b[49m\u001b[43mmask\u001b[49m\u001b[38;5;241;43m=\u001b[39;49m\u001b[43mmask\u001b[49m\u001b[43m,\u001b[49m\u001b[43m \u001b[49m\u001b[43mcolumns\u001b[49m\u001b[38;5;241;43m=\u001b[39;49m\u001b[43mcolumns\u001b[49m\u001b[43m,\u001b[49m\u001b[43m \u001b[49m\u001b[43mrows\u001b[49m\u001b[38;5;241;43m=\u001b[39;49m\u001b[43mrows\u001b[49m\u001b[43m,\u001b[49m\u001b[43m \u001b[49m\u001b[38;5;241;43m*\u001b[39;49m\u001b[38;5;241;43m*\u001b[39;49m\u001b[43mkwargs\u001b[49m\n\u001b[1;32m    319\u001b[0m \u001b[43m    \u001b[49m\u001b[43m)\u001b[49m\n\u001b[1;32m    321\u001b[0m \u001b[38;5;28;01melif\u001b[39;00m engine \u001b[38;5;241m==\u001b[39m \u001b[38;5;124m\"\u001b[39m\u001b[38;5;124mfiona\u001b[39m\u001b[38;5;124m\"\u001b[39m:\n\u001b[1;32m    322\u001b[0m     \u001b[38;5;28;01mif\u001b[39;00m pd\u001b[38;5;241m.\u001b[39mapi\u001b[38;5;241m.\u001b[39mtypes\u001b[38;5;241m.\u001b[39mis_file_like(filename):\n",
      "File \u001b[0;32m/srv/conda/envs/notebook/lib/python3.10/site-packages/geopandas/io/file.py:577\u001b[0m, in \u001b[0;36m_read_file_pyogrio\u001b[0;34m(path_or_bytes, bbox, mask, rows, **kwargs)\u001b[0m\n\u001b[1;32m    568\u001b[0m     warnings\u001b[38;5;241m.\u001b[39mwarn(\n\u001b[1;32m    569\u001b[0m         \u001b[38;5;124m\"\u001b[39m\u001b[38;5;124mThe \u001b[39m\u001b[38;5;124m'\u001b[39m\u001b[38;5;124minclude_fields\u001b[39m\u001b[38;5;124m'\u001b[39m\u001b[38;5;124m and \u001b[39m\u001b[38;5;124m'\u001b[39m\u001b[38;5;124mignore_fields\u001b[39m\u001b[38;5;124m'\u001b[39m\u001b[38;5;124m keywords are deprecated, and \u001b[39m\u001b[38;5;124m\"\u001b[39m\n\u001b[1;32m    570\u001b[0m         \u001b[38;5;124m\"\u001b[39m\u001b[38;5;124mwill be removed in a future release. You can use the \u001b[39m\u001b[38;5;124m'\u001b[39m\u001b[38;5;124mcolumns\u001b[39m\u001b[38;5;124m'\u001b[39m\u001b[38;5;124m keyword \u001b[39m\u001b[38;5;124m\"\u001b[39m\n\u001b[0;32m   (...)\u001b[0m\n\u001b[1;32m    573\u001b[0m         stacklevel\u001b[38;5;241m=\u001b[39m\u001b[38;5;241m3\u001b[39m,\n\u001b[1;32m    574\u001b[0m     )\n\u001b[1;32m    575\u001b[0m     kwargs[\u001b[38;5;124m\"\u001b[39m\u001b[38;5;124mcolumns\u001b[39m\u001b[38;5;124m\"\u001b[39m] \u001b[38;5;241m=\u001b[39m kwargs\u001b[38;5;241m.\u001b[39mpop(\u001b[38;5;124m\"\u001b[39m\u001b[38;5;124minclude_fields\u001b[39m\u001b[38;5;124m\"\u001b[39m)\n\u001b[0;32m--> 577\u001b[0m \u001b[38;5;28;01mreturn\u001b[39;00m \u001b[43mpyogrio\u001b[49m\u001b[38;5;241;43m.\u001b[39;49m\u001b[43mread_dataframe\u001b[49m\u001b[43m(\u001b[49m\u001b[43mpath_or_bytes\u001b[49m\u001b[43m,\u001b[49m\u001b[43m \u001b[49m\u001b[43mbbox\u001b[49m\u001b[38;5;241;43m=\u001b[39;49m\u001b[43mbbox\u001b[49m\u001b[43m,\u001b[49m\u001b[43m \u001b[49m\u001b[38;5;241;43m*\u001b[39;49m\u001b[38;5;241;43m*\u001b[39;49m\u001b[43mkwargs\u001b[49m\u001b[43m)\u001b[49m\n",
      "File \u001b[0;32m/srv/conda/envs/notebook/lib/python3.10/site-packages/pyogrio/geopandas.py:275\u001b[0m, in \u001b[0;36mread_dataframe\u001b[0;34m(path_or_buffer, layer, encoding, columns, read_geometry, force_2d, skip_features, max_features, where, bbox, mask, fids, sql, sql_dialect, fid_as_index, use_arrow, on_invalid, arrow_to_pandas_kwargs, **kwargs)\u001b[0m\n\u001b[1;32m    270\u001b[0m \u001b[38;5;28;01mif\u001b[39;00m \u001b[38;5;129;01mnot\u001b[39;00m use_arrow:\n\u001b[1;32m    271\u001b[0m     \u001b[38;5;66;03m# For arrow, datetimes are read as is.\u001b[39;00m\n\u001b[1;32m    272\u001b[0m     \u001b[38;5;66;03m# For numpy IO, datetimes are read as string values to preserve timezone info\u001b[39;00m\n\u001b[1;32m    273\u001b[0m     \u001b[38;5;66;03m# as numpy does not directly support timezones.\u001b[39;00m\n\u001b[1;32m    274\u001b[0m     kwargs[\u001b[38;5;124m\"\u001b[39m\u001b[38;5;124mdatetime_as_string\u001b[39m\u001b[38;5;124m\"\u001b[39m] \u001b[38;5;241m=\u001b[39m \u001b[38;5;28;01mTrue\u001b[39;00m\n\u001b[0;32m--> 275\u001b[0m result \u001b[38;5;241m=\u001b[39m \u001b[43mread_func\u001b[49m\u001b[43m(\u001b[49m\n\u001b[1;32m    276\u001b[0m \u001b[43m    \u001b[49m\u001b[43mpath_or_buffer\u001b[49m\u001b[43m,\u001b[49m\n\u001b[1;32m    277\u001b[0m \u001b[43m    \u001b[49m\u001b[43mlayer\u001b[49m\u001b[38;5;241;43m=\u001b[39;49m\u001b[43mlayer\u001b[49m\u001b[43m,\u001b[49m\n\u001b[1;32m    278\u001b[0m \u001b[43m    \u001b[49m\u001b[43mencoding\u001b[49m\u001b[38;5;241;43m=\u001b[39;49m\u001b[43mencoding\u001b[49m\u001b[43m,\u001b[49m\n\u001b[1;32m    279\u001b[0m \u001b[43m    \u001b[49m\u001b[43mcolumns\u001b[49m\u001b[38;5;241;43m=\u001b[39;49m\u001b[43mcolumns\u001b[49m\u001b[43m,\u001b[49m\n\u001b[1;32m    280\u001b[0m \u001b[43m    \u001b[49m\u001b[43mread_geometry\u001b[49m\u001b[38;5;241;43m=\u001b[39;49m\u001b[43mread_geometry\u001b[49m\u001b[43m,\u001b[49m\n\u001b[1;32m    281\u001b[0m \u001b[43m    \u001b[49m\u001b[43mforce_2d\u001b[49m\u001b[38;5;241;43m=\u001b[39;49m\u001b[43mgdal_force_2d\u001b[49m\u001b[43m,\u001b[49m\n\u001b[1;32m    282\u001b[0m \u001b[43m    \u001b[49m\u001b[43mskip_features\u001b[49m\u001b[38;5;241;43m=\u001b[39;49m\u001b[43mskip_features\u001b[49m\u001b[43m,\u001b[49m\n\u001b[1;32m    283\u001b[0m \u001b[43m    \u001b[49m\u001b[43mmax_features\u001b[49m\u001b[38;5;241;43m=\u001b[39;49m\u001b[43mmax_features\u001b[49m\u001b[43m,\u001b[49m\n\u001b[1;32m    284\u001b[0m \u001b[43m    \u001b[49m\u001b[43mwhere\u001b[49m\u001b[38;5;241;43m=\u001b[39;49m\u001b[43mwhere\u001b[49m\u001b[43m,\u001b[49m\n\u001b[1;32m    285\u001b[0m \u001b[43m    \u001b[49m\u001b[43mbbox\u001b[49m\u001b[38;5;241;43m=\u001b[39;49m\u001b[43mbbox\u001b[49m\u001b[43m,\u001b[49m\n\u001b[1;32m    286\u001b[0m \u001b[43m    \u001b[49m\u001b[43mmask\u001b[49m\u001b[38;5;241;43m=\u001b[39;49m\u001b[43mmask\u001b[49m\u001b[43m,\u001b[49m\n\u001b[1;32m    287\u001b[0m \u001b[43m    \u001b[49m\u001b[43mfids\u001b[49m\u001b[38;5;241;43m=\u001b[39;49m\u001b[43mfids\u001b[49m\u001b[43m,\u001b[49m\n\u001b[1;32m    288\u001b[0m \u001b[43m    \u001b[49m\u001b[43msql\u001b[49m\u001b[38;5;241;43m=\u001b[39;49m\u001b[43msql\u001b[49m\u001b[43m,\u001b[49m\n\u001b[1;32m    289\u001b[0m \u001b[43m    \u001b[49m\u001b[43msql_dialect\u001b[49m\u001b[38;5;241;43m=\u001b[39;49m\u001b[43msql_dialect\u001b[49m\u001b[43m,\u001b[49m\n\u001b[1;32m    290\u001b[0m \u001b[43m    \u001b[49m\u001b[43mreturn_fids\u001b[49m\u001b[38;5;241;43m=\u001b[39;49m\u001b[43mfid_as_index\u001b[49m\u001b[43m,\u001b[49m\n\u001b[1;32m    291\u001b[0m \u001b[43m    \u001b[49m\u001b[38;5;241;43m*\u001b[39;49m\u001b[38;5;241;43m*\u001b[39;49m\u001b[43mkwargs\u001b[49m\u001b[43m,\u001b[49m\n\u001b[1;32m    292\u001b[0m \u001b[43m\u001b[49m\u001b[43m)\u001b[49m\n\u001b[1;32m    294\u001b[0m \u001b[38;5;28;01mif\u001b[39;00m use_arrow:\n\u001b[1;32m    295\u001b[0m     \u001b[38;5;28;01mimport\u001b[39;00m\u001b[38;5;250m \u001b[39m\u001b[38;5;21;01mpyarrow\u001b[39;00m\u001b[38;5;250m \u001b[39m\u001b[38;5;28;01mas\u001b[39;00m\u001b[38;5;250m \u001b[39m\u001b[38;5;21;01mpa\u001b[39;00m\n",
      "File \u001b[0;32m/srv/conda/envs/notebook/lib/python3.10/site-packages/pyogrio/raw.py:198\u001b[0m, in \u001b[0;36mread\u001b[0;34m(path_or_buffer, layer, encoding, columns, read_geometry, force_2d, skip_features, max_features, where, bbox, mask, fids, sql, sql_dialect, return_fids, datetime_as_string, **kwargs)\u001b[0m\n\u001b[1;32m     59\u001b[0m \u001b[38;5;250m\u001b[39m\u001b[38;5;124;03m\"\"\"Read OGR data source into numpy arrays.\u001b[39;00m\n\u001b[1;32m     60\u001b[0m \n\u001b[1;32m     61\u001b[0m \u001b[38;5;124;03mIMPORTANT: non-linear geometry types (e.g., MultiSurface) are converted\u001b[39;00m\n\u001b[0;32m   (...)\u001b[0m\n\u001b[1;32m    194\u001b[0m \n\u001b[1;32m    195\u001b[0m \u001b[38;5;124;03m\"\"\"\u001b[39;00m\n\u001b[1;32m    196\u001b[0m dataset_kwargs \u001b[38;5;241m=\u001b[39m _preprocess_options_key_value(kwargs) \u001b[38;5;28;01mif\u001b[39;00m kwargs \u001b[38;5;28;01melse\u001b[39;00m {}\n\u001b[0;32m--> 198\u001b[0m \u001b[38;5;28;01mreturn\u001b[39;00m \u001b[43mogr_read\u001b[49m\u001b[43m(\u001b[49m\n\u001b[1;32m    199\u001b[0m \u001b[43m    \u001b[49m\u001b[43mget_vsi_path_or_buffer\u001b[49m\u001b[43m(\u001b[49m\u001b[43mpath_or_buffer\u001b[49m\u001b[43m)\u001b[49m\u001b[43m,\u001b[49m\n\u001b[1;32m    200\u001b[0m \u001b[43m    \u001b[49m\u001b[43mlayer\u001b[49m\u001b[38;5;241;43m=\u001b[39;49m\u001b[43mlayer\u001b[49m\u001b[43m,\u001b[49m\n\u001b[1;32m    201\u001b[0m \u001b[43m    \u001b[49m\u001b[43mencoding\u001b[49m\u001b[38;5;241;43m=\u001b[39;49m\u001b[43mencoding\u001b[49m\u001b[43m,\u001b[49m\n\u001b[1;32m    202\u001b[0m \u001b[43m    \u001b[49m\u001b[43mcolumns\u001b[49m\u001b[38;5;241;43m=\u001b[39;49m\u001b[43mcolumns\u001b[49m\u001b[43m,\u001b[49m\n\u001b[1;32m    203\u001b[0m \u001b[43m    \u001b[49m\u001b[43mread_geometry\u001b[49m\u001b[38;5;241;43m=\u001b[39;49m\u001b[43mread_geometry\u001b[49m\u001b[43m,\u001b[49m\n\u001b[1;32m    204\u001b[0m \u001b[43m    \u001b[49m\u001b[43mforce_2d\u001b[49m\u001b[38;5;241;43m=\u001b[39;49m\u001b[43mforce_2d\u001b[49m\u001b[43m,\u001b[49m\n\u001b[1;32m    205\u001b[0m \u001b[43m    \u001b[49m\u001b[43mskip_features\u001b[49m\u001b[38;5;241;43m=\u001b[39;49m\u001b[43mskip_features\u001b[49m\u001b[43m,\u001b[49m\n\u001b[1;32m    206\u001b[0m \u001b[43m    \u001b[49m\u001b[43mmax_features\u001b[49m\u001b[38;5;241;43m=\u001b[39;49m\u001b[43mmax_features\u001b[49m\u001b[43m \u001b[49m\u001b[38;5;129;43;01mor\u001b[39;49;00m\u001b[43m \u001b[49m\u001b[38;5;241;43m0\u001b[39;49m\u001b[43m,\u001b[49m\n\u001b[1;32m    207\u001b[0m \u001b[43m    \u001b[49m\u001b[43mwhere\u001b[49m\u001b[38;5;241;43m=\u001b[39;49m\u001b[43mwhere\u001b[49m\u001b[43m,\u001b[49m\n\u001b[1;32m    208\u001b[0m \u001b[43m    \u001b[49m\u001b[43mbbox\u001b[49m\u001b[38;5;241;43m=\u001b[39;49m\u001b[43mbbox\u001b[49m\u001b[43m,\u001b[49m\n\u001b[1;32m    209\u001b[0m \u001b[43m    \u001b[49m\u001b[43mmask\u001b[49m\u001b[38;5;241;43m=\u001b[39;49m\u001b[43m_mask_to_wkb\u001b[49m\u001b[43m(\u001b[49m\u001b[43mmask\u001b[49m\u001b[43m)\u001b[49m\u001b[43m,\u001b[49m\n\u001b[1;32m    210\u001b[0m \u001b[43m    \u001b[49m\u001b[43mfids\u001b[49m\u001b[38;5;241;43m=\u001b[39;49m\u001b[43mfids\u001b[49m\u001b[43m,\u001b[49m\n\u001b[1;32m    211\u001b[0m \u001b[43m    \u001b[49m\u001b[43msql\u001b[49m\u001b[38;5;241;43m=\u001b[39;49m\u001b[43msql\u001b[49m\u001b[43m,\u001b[49m\n\u001b[1;32m    212\u001b[0m \u001b[43m    \u001b[49m\u001b[43msql_dialect\u001b[49m\u001b[38;5;241;43m=\u001b[39;49m\u001b[43msql_dialect\u001b[49m\u001b[43m,\u001b[49m\n\u001b[1;32m    213\u001b[0m \u001b[43m    \u001b[49m\u001b[43mreturn_fids\u001b[49m\u001b[38;5;241;43m=\u001b[39;49m\u001b[43mreturn_fids\u001b[49m\u001b[43m,\u001b[49m\n\u001b[1;32m    214\u001b[0m \u001b[43m    \u001b[49m\u001b[43mdataset_kwargs\u001b[49m\u001b[38;5;241;43m=\u001b[39;49m\u001b[43mdataset_kwargs\u001b[49m\u001b[43m,\u001b[49m\n\u001b[1;32m    215\u001b[0m \u001b[43m    \u001b[49m\u001b[43mdatetime_as_string\u001b[49m\u001b[38;5;241;43m=\u001b[39;49m\u001b[43mdatetime_as_string\u001b[49m\u001b[43m,\u001b[49m\n\u001b[1;32m    216\u001b[0m \u001b[43m\u001b[49m\u001b[43m)\u001b[49m\n",
      "File \u001b[0;32mpyogrio/_io.pyx:1293\u001b[0m, in \u001b[0;36mpyogrio._io.ogr_read\u001b[0;34m()\u001b[0m\n",
      "File \u001b[0;32mpyogrio/_io.pyx:232\u001b[0m, in \u001b[0;36mpyogrio._io.ogr_open\u001b[0;34m()\u001b[0m\n",
      "\u001b[0;31mDataSourceError\u001b[0m: training-data/bootless-bay_postcard.geojson: No such file or directory"
     ]
    }
   ],
   "source": [
    "# ## Use training data bounds\n",
    "\n",
    "training = gpd.read_file(\"training-data/bootless-bay_postcard.geojson\")\n",
    "training = training.to_crs(\"EPSG:4326\")\n",
    "min_lon, min_lat, max_lon, max_lat = training.total_bounds\n",
    "\n",
    "bbox = [min_lon, min_lat, max_lon, max_lat]\n",
    "\n",
    "# TODO: configure colours...\n",
    "# training.explore(column=\"observed\")"
   ]
  },
  {
   "cell_type": "code",
   "execution_count": null,
   "id": "96a580b2-f7cf-444c-bcd9-fb87088c4f3a",
   "metadata": {},
   "outputs": [],
   "source": [
    "datetime = \"2024\"\n",
    "\n",
    "items = client.search(\n",
    "    collections=[\"dep_s2_geomad\"],\n",
    "    datetime=datetime,\n",
    "    bbox=bbox\n",
    ").item_collection()\n",
    "\n",
    "print(f\"Found {len(items)} items in for {datetime}\")"
   ]
  },
  {
   "cell_type": "code",
   "execution_count": null,
   "id": "78e2abf4-e303-44bd-9747-e03419a42da9",
   "metadata": {},
   "outputs": [],
   "source": [
    "measurements = [\"nir\", \"red\", \"blue\", \"green\", \"emad\", \"smad\", \"bcmad\", \"count\", \"green\", \"nir08\", \"nir09\", \"swir16\", \"swir22\", \"coastal\", \"rededge1\", \"rededge2\", \"rededge3\"]\n",
    "data = load_data(\n",
    "    items,\n",
    "    measurements,\n",
    "    bbox,\n",
    ")\n",
    "    \n",
    "# Now you can use the 'data' variable\n",
    "print(data)"
   ]
  },
  {
   "cell_type": "code",
   "execution_count": null,
   "id": "f514c9ea-39b8-44bc-a68f-33e632a7c648",
   "metadata": {},
   "outputs": [],
   "source": [
    "scaled = scale(data)\n",
    "scaled = scaled.compute().squeeze()"
   ]
  },
  {
   "cell_type": "code",
   "execution_count": null,
   "id": "aa2b19a3",
   "metadata": {},
   "outputs": [],
   "source": [
    "# Explore the site we are working on\n",
    "# scaled.odc.explore(vmin=0, vmax=0.3, bands=[\"red\", \"green\", \"blue\"], crs=\"EPSG:3832\", name=site)"
   ]
  },
  {
   "cell_type": "code",
   "execution_count": null,
   "id": "ec90a157-ddab-403b-9825-f8c4a6bcde1e",
   "metadata": {},
   "outputs": [],
   "source": [
    "scaled = calculate_band_indices(scaled)"
   ]
  },
  {
   "cell_type": "code",
   "execution_count": null,
   "id": "16ccfec6-bc85-48a4-83eb-a7c2db3b1b74",
   "metadata": {},
   "outputs": [],
   "source": [
    "## Moderate land mask\n",
    "MNDWI_THRESHOLD = -0.2\n",
    "mndwi_mask = scaled.mndwi > MNDWI_THRESHOLD\n",
    "\n",
    "# mndwi_mask.odc.explore()"
   ]
  },
  {
   "cell_type": "code",
   "execution_count": null,
   "id": "06436300-924b-41c2-b7ec-f0f3dd404d32",
   "metadata": {},
   "outputs": [],
   "source": [
    "ln_bg = scaled['ln_bg'].values.flatten()  # flatten in case it's multi-dimensional\n",
    "# Remove NaNs if present\n",
    "ln_bg = ln_bg[~np.isnan(ln_bg)]\n",
    "# Calculate mean and std\n",
    "mean = ln_bg.mean()\n",
    "std = ln_bg.std()\n"
   ]
  },
  {
   "cell_type": "code",
   "execution_count": null,
   "id": "174d91e8",
   "metadata": {},
   "outputs": [],
   "source": [
    "# Deep ocean mask\n",
    "ln_bg_mask = scaled[\"ln_bg\"] < 0\n",
    "\n",
    "# ln_bg_mask.odc.explore()"
   ]
  },
  {
   "cell_type": "code",
   "execution_count": null,
   "id": "4c3cd4db-9eaa-4ac1-82e4-9b12eb309f07",
   "metadata": {},
   "outputs": [],
   "source": [
    "e84_catalog = \"https://earth-search.aws.element84.com/v1/\"\n",
    "e84_client = Client.open(e84_catalog)\n",
    "collection = \"cop-dem-glo-30\"\n",
    "\n",
    "items = e84_client.search(\n",
    "    collections=[collection],\n",
    "    bbox=bbox\n",
    ").item_collection()\n",
    "\n",
    "items\n",
    "\n",
    "# Using geobox means it will load the elevation data the same shape as the other data\n",
    "elevation = load(items, measurements=[\"data\"], geobox=data.odc.geobox).squeeze()\n",
    "\n",
    "# True where data is above 10m elevation\n",
    "elevation_mask = elevation.data < 10\n",
    "\n",
    "# elevation_mask.odc.explore()"
   ]
  },
  {
   "cell_type": "code",
   "execution_count": null,
   "id": "acac4e05-6666-4620-aab2-acb48116fe1f",
   "metadata": {},
   "outputs": [],
   "source": [
    "masked = scaled.where(mndwi_mask)"
   ]
  },
  {
   "cell_type": "code",
   "execution_count": null,
   "id": "aa09e3c7",
   "metadata": {},
   "outputs": [],
   "source": [
    "# elevation mask is having issues\n",
    "all_masks = mndwi_mask & ln_bg_mask & elevation_mask\n",
    "all_masks = all_masks.rio.write_crs(\"EPSG:3832\") # Use .rio.reproject\n",
    "\n",
    "centroid = scaled.odc.geobox.geographic_extent.centroid.coords[0][::-1]\n",
    "m = folium.Map(location=centroid, zoom_start=14)\n",
    "\n",
    "scaled.odc.to_rgba(bands=[\"red\", \"green\", \"blue\"], vmin=0, vmax=0.3).odc.add_to(m, name=\"RGB\")\n",
    "mndwi_mask.where(mndwi_mask == 0).odc.add_to(m, name=\"MNDWI Mask\", vmin=0, vmax=1)\n",
    "# ndti_mask.where(ndti_mask == 0).odc.add_to(m, name=\"NDTI Mask\", vmin=0, vmax=1)\n",
    "ln_bg_mask.where(ln_bg_mask == 0).odc.add_to(m, name=\"ln_bg Mask\", vmin=0, vmax=1)\n",
    "# all_masks.where(all_masks == 0).odc.add_to(m, name=\"All Masks\", vmin=0, vmax=1)\n",
    "all_masks.odc.add_to(m, name=\"All Masks\", vmin=0, vmax=1) \n",
    "\n",
    "folium.LayerControl().add_to(m)\n",
    "\n",
    "# m"
   ]
  },
  {
   "cell_type": "code",
   "execution_count": null,
   "id": "684e1128",
   "metadata": {},
   "outputs": [],
   "source": [
    "# Now apply the mask, and view the masked region\n",
    "\n",
    "masked = scaled.where(all_masks)\n",
    "# masked.odc.explore(\n",
    "#     vmin=0, vmax=0.3, bands=[\"red\", \"green\", \"blue\"], name=f\"{site}-masked\", tiles=basemaps.OpenStreetMap.Mapnik  \n",
    "# )"
   ]
  },
  {
   "cell_type": "markdown",
   "id": "5e1b4340-0375-4e76-a228-44843530483b",
   "metadata": {},
   "source": [
    "### GLCM texture analysis\n",
    "\n",
    "The objective of this notebook was to train the machine learning model that will allow us to classify an area with land cover classes defined through the training data.\n",
    "\n",
    "Step 1.2. Input the training data to sample geomad data from the postcard"
   ]
  },
  {
   "cell_type": "code",
   "execution_count": null,
   "id": "6cc6319c-a4e0-42a7-9408-1b131e0220c4",
   "metadata": {},
   "outputs": [],
   "source": [
    "WINDOW_SIZE = 9\n",
    "LEVELS = 32\n",
    "\n",
    "# Input\n",
    "max = masked.blue.max().values\n",
    "min = masked.blue.min().values\n",
    "# Scale to 0-LEVELS for GLCM\n",
    "img = ((masked.blue - min) / (max - min) * (LEVELS - 1)).clip(0, LEVELS - 1).values.astype(np.uint8)\n",
    "\n",
    "# Extract overlapping windows\n",
    "patches = sliding_window_view(img, (WINDOW_SIZE, WINDOW_SIZE))\n",
    "# Shape: (rows, cols, win_y, win_x)\n"
   ]
  },
  {
   "cell_type": "code",
   "execution_count": null,
   "id": "64b0972e-bc50-4cbc-92d0-b985ec9dd417",
   "metadata": {},
   "outputs": [],
   "source": [
    "import numpy as np # Ensure numpy is imported if not already\n",
    "\n",
    "# Assuming 'patches' is a 4D NumPy array with dimensions (y_coords, x_coords, window_y_size, window_x_size)\n",
    "# To get the first patch (at y=0, x=0), you would index it like this:\n",
    "sample_patch_data = patches[0, 0, :, :]\n",
    "\n",
    "# Verify the shape of the extracted sample patch data\n",
    "print(f\"Shape of sample_patch_data: {sample_patch_data.shape}\")\n",
    "\n",
    "# Call glcm_features directly on this 2D sample data\n",
    "sample_result = glcm_features(sample_patch_data)\n",
    "\n",
    "# Print the shape of the result to get the number of features\n",
    "print(f\"Shape of glcm_features output for a single patch: {sample_result.shape}\")"
   ]
  },
  {
   "cell_type": "code",
   "execution_count": null,
   "id": "25e3c616",
   "metadata": {},
   "outputs": [],
   "source": [
    "# Use apply_ufunc to vectorize over (row, col) dimensions\n",
    "result = xr.apply_ufunc(\n",
    "    glcm_features,\n",
    "    xr.DataArray(patches, dims=[\"y\", \"x\", \"win_y\", \"win_x\"]),\n",
    "    input_core_dims=[[\"win_y\", \"win_x\"]],\n",
    "    output_core_dims=[[\"feature\"]],\n",
    "    vectorize=True,\n",
    "    dask=\"parallelized\",\n",
    "    output_dtypes=[np.float32]\n",
    ")\n",
    "\n",
    "# Add coordinates & names\n",
    "pad = WINDOW_SIZE - 1\n",
    "result = result.assign_coords({\n",
    "    \"y\": masked.y[: -pad],\n",
    "    \"x\": masked.x[: -pad],\n",
    "    \"feature\": [\"contrast\", \"homogeneity\", \"energy\", \"ASM\", \"correlation\", \"mean\", \"entropy\"]\n",
    "})\n",
    "\n",
    "result_bands = result.to_dataset(dim=\"feature\")\n",
    "\n",
    "# Combine with original\n",
    "masked_plus = masked.copy()\n",
    "masked_plus = masked_plus.assign(result_bands)\n",
    "\n",
    "masked_plus"
   ]
  },
  {
   "cell_type": "code",
   "execution_count": null,
   "id": "c54e3951",
   "metadata": {},
   "outputs": [],
   "source": [
    "# Re-apply the mask\n",
    "masked_plus = masked_plus.where(all_masks)"
   ]
  },
  {
   "cell_type": "markdown",
   "id": "afd17e13-a9d8-4c1a-9f4f-37caea2ca87e",
   "metadata": {},
   "source": [
    "### Postcard csv\n",
    "\n",
    "The objective of this notebook was to train the machine learning model that will allow us to classify an area with land cover classes defined through the training data.\n",
    "\n",
    "Step 1.2. Input the training data to sample geomad data from the postcard"
   ]
  },
  {
   "cell_type": "code",
   "execution_count": null,
   "id": "59c58091-c716-40fd-9007-8ff22bfbe631",
   "metadata": {},
   "outputs": [],
   "source": [
    "# # Reproject training data to the GeoMAD CRS and convert to xarray\n",
    "# training_reprojected = training.to_crs(masked_plus.odc.crs)\n",
    "# training_da = training_reprojected.assign(\n",
    "#     x=training_reprojected.geometry.x, y=training_reprojected.geometry.y\n",
    "# ).to_xarray()\n",
    "\n",
    "# # Extract training values from the masked dataset\n",
    "# training_values = (\n",
    "#     masked_plus.sel(training_da[[\"x\", \"y\"]], method=\"nearest\")\n",
    "#     .squeeze()\n",
    "#     .compute()\n",
    "#     .to_pandas()\n",
    "# )\n",
    "# training_values"
   ]
  },
  {
   "cell_type": "code",
   "execution_count": null,
   "id": "16d13b52-bdfa-4709-ace8-8bae982060f1",
   "metadata": {},
   "outputs": [],
   "source": [
    "# # Join the training data with the extracted values and remove unnecessary columns\n",
    "# training_array = pd.concat([training[\"cc_id\"], training_values], axis=1)\n",
    "\n",
    "# # Drop rows where there was no data available\n",
    "# training_array = training_array.dropna()\n",
    "\n",
    "# # Preview our resulting training array\n",
    "# training_array.head()"
   ]
  },
  {
   "cell_type": "code",
   "execution_count": null,
   "id": "f83f597a",
   "metadata": {},
   "outputs": [],
   "source": [
    "# # Write the training data to a CSV file\n",
    "# training_array.to_csv(f\"training-data/{version}-training.csv\", index=False)"
   ]
  },
  {
   "cell_type": "code",
   "execution_count": null,
   "id": "8e394365-5861-495e-8ddd-42ba6d245dbe",
   "metadata": {},
   "outputs": [],
   "source": []
  },
  {
   "cell_type": "code",
   "execution_count": null,
   "id": "8f992dfb-7553-4914-afe9-23ae4978d67d",
   "metadata": {},
   "outputs": [],
   "source": [
    "joined_df = gpd.read_file(\"training-data/nm-14072025-joined_tdata.csv\")\n",
    "joined_df"
   ]
  },
  {
   "cell_type": "code",
   "execution_count": null,
   "id": "f4328834-ecdd-4baf-b105-4184c563fff6",
   "metadata": {},
   "outputs": [],
   "source": [
    "joined_df.columns"
   ]
  },
  {
   "cell_type": "code",
   "execution_count": null,
   "id": "ceb89e81-2f93-47b5-b21b-fae6a763d4ed",
   "metadata": {},
   "outputs": [],
   "source": [
    "# joined_df = joined_df.drop(columns=[\"spatial_ref\", \"time\", \"field_1\", \"y\", \"x\"])\n",
    "# joined_df = joined_df.drop(columns=[\"field_1\"])\n",
    "# joined_df = joined_df.drop(columns=[\"y\", \"x\"])\n",
    "joined_df"
   ]
  },
  {
   "cell_type": "code",
   "execution_count": null,
   "id": "b4c67ffc-f848-437b-8955-3e5fc8c70f89",
   "metadata": {},
   "outputs": [],
   "source": [
    "# The classes are the first column\n",
    "classes = np.array(joined_df)[:, 0]\n",
    "\n",
    "# The observation data is everything after the second column\n",
    "observations = np.array(joined_df)[:, 1:]\n",
    "\n",
    "# Create a model...\n",
    "classifier = RandomForestClassifier()\n",
    "\n",
    "# ...and fit it to the data\n",
    "model = classifier.fit(observations, classes)"
   ]
  },
  {
   "cell_type": "code",
   "execution_count": null,
   "id": "5af7821d-59ea-449a-b74c-53c942dca7c1",
   "metadata": {},
   "outputs": [],
   "source": [
    "# Dynamically create the filename with f-string\n",
    "file_path = f\"models/{version}-test.model\"\n",
    "\n",
    "# Save the model\n",
    "joblib.dump(model, file_path)"
   ]
  },
  {
   "cell_type": "code",
   "execution_count": null,
   "id": "81c4e14c-b151-4585-9440-c1abfe9ef787",
   "metadata": {},
   "outputs": [],
   "source": [
    "postcard_params = postcard_df.columns[1:]\n",
    "print(postcard_params)"
   ]
  },
  {
   "cell_type": "code",
   "execution_count": null,
   "id": "26beb44a-1d02-4755-a8e7-2ffd293d1b82",
   "metadata": {},
   "outputs": [],
   "source": [
    "# Convert to a stacked array of observations\n",
    "# stacked_arrays = stacked_arrays.squeeze()\n",
    "stacked_arrays = postcard.squeeze()#.stack(dims=[\"y\", \"x\"])#.transpose()\n",
    "stacked_arrays = stacked_arrays.to_dataarray()"
   ]
  },
  {
   "cell_type": "code",
   "execution_count": null,
   "id": "ff8c57af-9d7a-4741-ac95-8cb4c238fd48",
   "metadata": {},
   "outputs": [],
   "source": [
    "stacked_arrays_2d = stacked_arrays.stack(new_dim=(\"y\", \"x\")) \n",
    "reordered_data_array = stacked_arrays_2d.transpose('new_dim', 'variable')\n",
    "stacked_arrays_2d.shape\n"
   ]
  },
  {
   "cell_type": "code",
   "execution_count": null,
   "id": "b75aee4b-993e-46a1-8dd0-97aa78845c19",
   "metadata": {},
   "outputs": [],
   "source": [
    "# Replace any infinities with NaN\n",
    "stacked_arrays_2d = stacked_arrays_2d.where(stacked_arrays_2d != float(\"inf\"))\n",
    "stacked_arrays_2d = stacked_arrays_2d.where(stacked_arrays_2d != float(\"-inf\"))\n",
    "\n",
    "# Replace any NaN values with 0\n",
    "df = stacked_arrays_2d.squeeze().fillna(0).transpose().to_pandas()\n",
    "\n",
    "# Remove the all-zero rows\n",
    "zero_mask = (df == 0).all(axis=1)  # Creates a boolean Series\n",
    "non_zero_df = df.loc[~zero_mask]  # Filters out all-zero rows\n",
    "\n",
    "# Create a new array to hold the predictions\n",
    "full_pred = pd.Series(np.nan, index=df.index)\n",
    "\n",
    "reordered_data_array = stacked_arrays_2d.transpose('new_dim', 'variable')"
   ]
  },
  {
   "cell_type": "code",
   "execution_count": null,
   "id": "8e10130a-850f-4330-9a34-d12442d6523a",
   "metadata": {},
   "outputs": [],
   "source": [
    "# Predict the classes\n",
    "predicted = model.predict(reordered_data_array)"
   ]
  },
  {
   "cell_type": "code",
   "execution_count": null,
   "id": "4b31a62f-adc2-494d-8667-39cdd2495b28",
   "metadata": {},
   "outputs": [],
   "source": [
    "# Reshape back to the original 2D array\n",
    "reordered_data_array = predicted.reshape(len(postcard.y), len(postcard.x))\n",
    "\n",
    "# Convert to an xarray again, because it's easier to work with\n",
    "predicted_da = xr.DataArray(\n",
    "    reordered_data_array, coords={\"y\": postcard.y, \"x\": postcard.x}, dims=[\"y\", \"x\"]\n",
    ")"
   ]
  },
  {
   "cell_type": "code",
   "execution_count": null,
   "id": "8df90d61-30a2-4518-a8ee-be0e963b870d",
   "metadata": {},
   "outputs": [],
   "source": [
    "print(predicted_da.dtype)  # Check the dtype of your DataArray\n",
    "predicted_da = predicted_da.astype('float32')  # Convert to float32\n",
    "\n",
    "# Check for NaN values\n",
    "if np.isnan(predicted_da).any():\n",
    "    print(\"NaN values found in the data\")\n",
    "    # Handle NaN values, e.g. by filling them\n",
    "    predicted_da = predicted_da.fillna(0)  # Replace NaN with 0 or appropriate value"
   ]
  },
  {
   "cell_type": "code",
   "execution_count": null,
   "id": "270f3e37-7ef5-411f-9711-42b44bb691ea",
   "metadata": {},
   "outputs": [],
   "source": [
    "from matplotlib import colors\n",
    "\n",
    "classes = [\n",
    "    [1, \"sediment\", \"#8c8c8c\"],\n",
    "    [2, \"sand\", \"#fedd24\"],\n",
    "    [3, \"rubble\", \"#f8ffb4\"],\n",
    "    [4, \"seagrass\", \"#6df7dc\"],\n",
    "    [5, \"seaweed\", \"#b9df6f\"],\n",
    "    [6, \"coral\", \"#a011c3\"],\n",
    "    [7, \"rock\", \"#804600\"],\n",
    "    [8, \"deeps\", \"#011b61\"],\n",
    "    [9, \"mangrove\", \"#086a39\"],\n",
    "    [10, \"land\", \"#ffffff\"],\n",
    "]\n",
    "\n",
    "values_list = [c[0] for c in classes]\n",
    "color_list = [c[2] for c in classes]\n",
    "\n",
    "# Build a listed colormap.\n",
    "c_map = colors.ListedColormap(color_list)\n",
    "bounds = values_list + [14]\n",
    "norm = colors.BoundaryNorm(bounds, c_map.N)\n",
    "\n",
    "predicted_da.plot.imshow(cmap=c_map, norm=norm, size=10)"
   ]
  },
  {
   "cell_type": "code",
   "execution_count": null,
   "id": "24e6acb9-3b6e-469b-9fcc-678495db2f4c",
   "metadata": {},
   "outputs": [],
   "source": [
    "predicted_da.odc.explore()"
   ]
  },
  {
   "cell_type": "code",
   "execution_count": null,
   "id": "50d56778-e565-4673-a41c-3aeb87fe24c7",
   "metadata": {},
   "outputs": [],
   "source": [
    "# issue where not all masks are being included - only land but not surf / also strange effect on side\n",
    "predicted_da = predicted_da.where(all_masks)\n",
    "# issue where not all masks are being included - only land but not surf / also strange effect on side\n",
    "predicted_da = predicted_da.where(bg < 0.2)\n",
    "predicted_da.odc.explore(cmap=c_map)"
   ]
  },
  {
   "cell_type": "code",
   "execution_count": null,
   "id": "98dd4c76-abdd-498a-9865-980458b3bbbf",
   "metadata": {},
   "outputs": [],
   "source": [
    "predicted_da.odc.write_cog(f\"{version}.tiff\", overwrite=True)"
   ]
  }
 ],
 "metadata": {
  "kernelspec": {
   "display_name": "Python 3 (ipykernel)",
   "language": "python",
   "name": "python3"
  },
  "language_info": {
   "codemirror_mode": {
    "name": "ipython",
    "version": 3
   },
   "file_extension": ".py",
   "mimetype": "text/x-python",
   "name": "python",
   "nbconvert_exporter": "python",
   "pygments_lexer": "ipython3",
   "version": "3.10.18"
  }
 },
 "nbformat": 4,
 "nbformat_minor": 5
}
