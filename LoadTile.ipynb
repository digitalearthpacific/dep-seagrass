{
 "cells": [
  {
   "cell_type": "code",
   "execution_count": null,
   "id": "15f571a0",
   "metadata": {},
   "outputs": [],
   "source": [
    "from pystac import Item\n",
    "from odc.stac import load, configure_s3_access\n",
    "from ipyleaflet import basemaps\n",
    "from odc.geo.geom import BoundingBox"
   ]
  },
  {
   "cell_type": "code",
   "execution_count": null,
   "id": "ffb1191a",
   "metadata": {},
   "outputs": [],
   "source": [
    "configure_s3_access(aws_unsigned=True)"
   ]
  },
  {
   "cell_type": "code",
   "execution_count": null,
   "id": "8d2bad40",
   "metadata": {},
   "outputs": [],
   "source": [
    "row, col = (108, 8)\n",
    "# row, col = (51, 30)\n",
    "year = 2017\n",
    "\n",
    "base = (\n",
    "    \"https://dep-public-staging.s3.us-west-2.amazonaws.com/dep_s2_seagrass/0-2-0/\"\n",
    "    f\"{row:03}/{col:03}/{year}/dep_s2_seagrass_{row:03}_{col:03}_{year}.stac-item.json\"\n",
    ")\n",
    "\n",
    "items = [Item.from_file(base.format(year=year, row=row, col=col))]\n",
    "data = load(items, fail_on_error=False)\n",
    "\n",
    "data"
   ]
  },
  {
   "cell_type": "code",
   "execution_count": null,
   "id": "8826f8f4",
   "metadata": {},
   "outputs": [],
   "source": [
    "data.seagrass_probability.odc.explore()"
   ]
  },
  {
   "cell_type": "code",
   "execution_count": null,
   "id": "45c32080",
   "metadata": {},
   "outputs": [],
   "source": [
    "data.seagrass.where(data.seagrass == 1).plot.imshow(col=\"time\", col_wrap=2, cmap=\"Greens_r\", size=6)"
   ]
  }
 ],
 "metadata": {
  "kernelspec": {
   "display_name": "Python 3",
   "language": "python",
   "name": "python3"
  },
  "language_info": {
   "codemirror_mode": {
    "name": "ipython",
    "version": 3
   },
   "file_extension": ".py",
   "mimetype": "text/x-python",
   "name": "python",
   "nbconvert_exporter": "python",
   "pygments_lexer": "ipython3",
   "version": "3.11.11"
  }
 },
 "nbformat": 4,
 "nbformat_minor": 5
}
