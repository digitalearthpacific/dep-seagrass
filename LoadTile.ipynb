{
 "cells": [
  {
   "cell_type": "code",
   "execution_count": null,
   "id": "15f571a0",
   "metadata": {},
   "outputs": [],
   "source": [
    "from pystac import Item\n",
    "from odc.stac import load\n",
    "import folium\n",
    "from ipyleaflet import basemaps"
   ]
  },
  {
   "cell_type": "code",
   "execution_count": null,
   "id": "8d2bad40",
   "metadata": {},
   "outputs": [],
   "source": [
    "row = 63\n",
    "col = 20\n",
    "year = 2024\n",
    "\n",
    "url = (\n",
    "    \"https://dep-public-staging.s3.us-west-2.amazonaws.com/dep_s2_seagrass/0-0-1/\"\n",
    "    f\"{row:03}/{col:03}/{year}/dep_s2_seagrass_{row:03}_{col:03}_{year}.stac-item.json\"\n",
    ")\n",
    "item = Item.from_file(url)\n",
    "\n",
    "data = load([item])\n",
    "\n",
    "data"
   ]
  },
  {
   "cell_type": "code",
   "execution_count": null,
   "id": "fa6f2b2c-fda7-443d-931b-1b43909a55af",
   "metadata": {},
   "outputs": [],
   "source": [
    "# flipped = data.classification.isel(y=slice(None, None, -1))  # Flips the y axis\n",
    "# center = flipped.odc.geobox.geographic_extent.centroid.coords[0][::-1]\n",
    "# m = folium.Map(location=center, zoom_start=10, tiles=basemaps.Esri.WorldImagery)\n",
    "\n",
    "# flipped.odc.add_to(m, name=variable, colormap=\"viridis\")"
   ]
  },
  {
   "cell_type": "code",
   "execution_count": null,
   "id": "a7d19bd8-1e65-4729-8828-e28f25447516",
   "metadata": {},
   "outputs": [],
   "source": [
    "import boto3\n",
    "\n",
    "bucket = \"dep-public-staging\"\n",
    "prefix = \"dep_s2_seagrass/0-0-1/\"\n",
    "\n",
    "s3 = boto3.client(\"s3\")\n",
    "result = s3.list_objects_v2(Bucket=bucket, Prefix=prefix)\n",
    "\n",
    "tiles = []\n",
    "for obj in result.get(\"Contents\", []):\n",
    "    key = obj[\"Key\"]\n",
    "    if key.endswith(\".stac-item.json\") and f\"/{year}/\" in key:\n",
    "        # Parse row and col from the filename or path\n",
    "        # Example: dep_s2_seagrass/0-0-1/064/033/2024/dep_s2_seagrass_064_033_2024.stac-item.json\n",
    "        parts = key.split(\"/\")\n",
    "        row, col = parts[-3], parts[-2]\n",
    "        tiles.append((int(row), int(col)))"
   ]
  },
  {
   "cell_type": "code",
   "execution_count": null,
   "id": "1e98459b-dd21-4dfd-aa66-c229f81c65b6",
   "metadata": {},
   "outputs": [],
   "source": [
    "data = data.compute()\n",
    "\n",
    "from odc.geo.xr import write_cog\n",
    "\n",
    "write_cog(data.classification, \"marine_habitats.tif\", overwrite=True)\n",
    "write_cog(data.seagrass, \"seagrass.tif\", overwrite=True)\n",
    "write_cog(data.seagrass_probability, \"seagrass_probability.tif\", overwrite=True)"
   ]
  }
 ],
 "metadata": {
  "kernelspec": {
   "display_name": "Python 3",
   "language": "python",
   "name": "python3"
  },
  "language_info": {
   "codemirror_mode": {
    "name": "ipython",
    "version": 3
   },
   "file_extension": ".py",
   "mimetype": "text/x-python",
   "name": "python",
   "nbconvert_exporter": "python",
   "pygments_lexer": "ipython3",
   "version": "3.11.11"
  }
 },
 "nbformat": 4,
 "nbformat_minor": 5
}
