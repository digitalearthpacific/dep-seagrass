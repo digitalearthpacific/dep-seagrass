{
 "cells": [
  {
   "cell_type": "code",
   "execution_count": null,
   "id": "15f571a0",
   "metadata": {},
   "outputs": [],
   "source": [
    "from pystac import Item\n",
    "from odc.stac import load\n",
    "import folium\n",
    "from ipyleaflet import basemaps"
   ]
  },
  {
   "cell_type": "code",
   "execution_count": null,
   "id": "8d2bad40",
   "metadata": {},
   "outputs": [],
   "source": [
    "row = 64\n",
    "col = 33\n",
    "year = 2024\n",
    "\n",
    "url = (\n",
    "    \"https://dep-public-staging.s3.us-west-2.amazonaws.com/dep_s2_seagrass/0-0-1/\"\n",
    "    f\"{row:03}/{col:03}/{year}/dep_s2_seagrass_{row:03}_{col:03}_{year}.stac-item.json\"\n",
    ")\n",
    "item = Item.from_file(url)\n",
    "\n",
    "data = load([item])\n",
    "\n",
    "data"
   ]
  },
  {
   "cell_type": "code",
   "execution_count": null,
   "id": "722ff9f7",
   "metadata": {},
   "outputs": [],
   "source": [
    "center = data.odc.geobox.geographic_extent.centroid.coords[0][::-1]\n",
    "\n",
    "m = folium.Map(location=center, zoom_start=10, tiles=basemaps.Esri.WorldImagery)\n",
    "\n",
    "for variable in data.data_vars:\n",
    "    data[variable].odc.add_to(m, name=variable, colormap=\"viridis\")\n",
    "\n",
    "folium.LayerControl().add_to(m)\n",
    "\n",
    "m"
   ]
  }
 ],
 "metadata": {
  "kernelspec": {
   "display_name": "Python 3",
   "language": "python",
   "name": "python3"
  },
  "language_info": {
   "codemirror_mode": {
    "name": "ipython",
    "version": 3
   },
   "file_extension": ".py",
   "mimetype": "text/x-python",
   "name": "python",
   "nbconvert_exporter": "python",
   "pygments_lexer": "ipython3",
   "version": "3.11.11"
  }
 },
 "nbformat": 4,
 "nbformat_minor": 5
}
