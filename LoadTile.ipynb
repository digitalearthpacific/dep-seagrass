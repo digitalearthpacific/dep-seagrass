{
 "cells": [
  {
   "cell_type": "code",
   "execution_count": null,
   "id": "15f571a0",
   "metadata": {},
   "outputs": [],
   "source": [
    "from pystac import Item\n",
    "from odc.stac import load, configure_s3_access\n",
    "from ipyleaflet import basemaps\n",
    "from odc.geo.geom import BoundingBox"
   ]
  },
  {
   "cell_type": "code",
   "execution_count": null,
   "id": "ffb1191a",
   "metadata": {},
   "outputs": [],
   "source": [
    "configure_s3_access(aws_unsigned=True)"
   ]
  },
  {
   "cell_type": "code",
   "execution_count": null,
   "id": "8d2bad40",
   "metadata": {},
   "outputs": [],
   "source": [
    "# row = 63\n",
    "# col = 20\n",
    "# year = 2024\n",
    "\n",
    "# url = (\n",
    "#     \"https://dep-public-staging.s3.us-west-2.amazonaws.com/dep_s2_seagrass/0-0-1/\"\n",
    "#     f\"{row:03}/{col:03}/{year}/dep_s2_seagrass_{row:03}_{col:03}_{year}.stac-item.json\"\n",
    "# )\n",
    "# url = \"https://files.auspatious.com/dep_s2_seagrass/test/064/020/2024/dep_s2_seagrass_064_020_2024.stac-item.json\"\n",
    "# url = \"https://files.auspatious.com/dep_s2_seagrass/test/063/020/2024/dep_s2_seagrass_063_020_2024.stac-item.json\"\n",
    "\n",
    "base = \"https://files.auspatious.com/dep_s2_seagrass/test/028/030/{year}/dep_s2_seagrass_028_030_{year}.stac-item.json\"\n",
    "years = range(2019, 2025)\n",
    "\n",
    "items = [Item.from_file(base.format(year=year)) for year in years]\n",
    "bbox = BoundingBox(147.27, -9.50, 147.32, -9.55)\n",
    "data_old = load(items, fail_on_error=False, bbox=bbox)\n",
    "\n",
    "data_old"
   ]
  },
  {
   "cell_type": "code",
   "execution_count": null,
   "id": "3ea658e6",
   "metadata": {},
   "outputs": [],
   "source": [
    "# row = 63\n",
    "# col = 20\n",
    "# year = 2024\n",
    "\n",
    "# url = (\n",
    "#     \"https://dep-public-staging.s3.us-west-2.amazonaws.com/dep_s2_seagrass/0-0-1/\"\n",
    "#     f\"{row:03}/{col:03}/{year}/dep_s2_seagrass_{row:03}_{col:03}_{year}.stac-item.json\"\n",
    "# )\n",
    "# url = \"https://files.auspatious.com/dep_s2_seagrass/test/064/020/2024/dep_s2_seagrass_064_020_2024.stac-item.json\"\n",
    "# url = \"https://files.auspatious.com/dep_s2_seagrass/test/063/020/2024/dep_s2_seagrass_063_020_2024.stac-item.json\"\n",
    "\n",
    "base = \"https://files.auspatious.com/dep_s2_seagrass/0-0-2/028/030/{year}/dep_s2_seagrass_028_030_{year}.stac-item.json\"\n",
    "years = range(2019, 2025)\n",
    "\n",
    "items = [Item.from_file(base.format(year=year)) for year in years]\n",
    "bbox = BoundingBox(147.27, -9.50, 147.32, -9.55)\n",
    "data_new = load(items, fail_on_error=False, bbox=bbox)\n",
    "\n",
    "data_new"
   ]
  },
  {
   "cell_type": "code",
   "execution_count": null,
   "id": "45c32080",
   "metadata": {},
   "outputs": [],
   "source": [
    "data_new.seagrass.where(data_new.seagrass == 1).plot.imshow(col=\"time\", col_wrap=2, cmap=\"Greens_r\", size=6)"
   ]
  },
  {
   "cell_type": "code",
   "execution_count": null,
   "id": "50ee7de1",
   "metadata": {},
   "outputs": [],
   "source": [
    "data_old.seagrass.where(data_old.seagrass == 1).plot.imshow(col=\"time\", col_wrap=2, cmap=\"Greens_r\", size=6)"
   ]
  },
  {
   "cell_type": "code",
   "execution_count": null,
   "id": "dae70b7e",
   "metadata": {},
   "outputs": [],
   "source": [
    "diff = data_new - data_old\n",
    "\n",
    "diff.seagrass.plot.imshow(col=\"time\", col_wrap=2, cmap=\"RdBu\", size=6, vmin=-1, vmax=1)"
   ]
  },
  {
   "cell_type": "code",
   "execution_count": null,
   "id": "51a11abf",
   "metadata": {},
   "outputs": [],
   "source": [
    "band = \"seagrass\"\n",
    "# band = \"seagrass_threshold_60\"\n",
    "\n",
    "visual = data[band].where(data[band] == 1).squeeze()\n",
    "visual.odc.nodata = float(\"nan\")\n",
    "\n",
    "visual.odc.explore(vmin=1, vmax=2, tiles=basemaps.Esri.WorldImagery, cmap=\"Greens_r\")"
   ]
  }
 ],
 "metadata": {
  "kernelspec": {
   "display_name": "Python 3",
   "language": "python",
   "name": "python3"
  },
  "language_info": {
   "codemirror_mode": {
    "name": "ipython",
    "version": 3
   },
   "file_extension": ".py",
   "mimetype": "text/x-python",
   "name": "python",
   "nbconvert_exporter": "python",
   "pygments_lexer": "ipython3",
   "version": "3.11.11"
  }
 },
 "nbformat": 4,
 "nbformat_minor": 5
}
